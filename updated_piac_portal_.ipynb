{
  "nbformat": 4,
  "nbformat_minor": 0,
  "metadata": {
    "colab": {
      "name": "updated piac portal .ipynb",
      "provenance": [],
      "collapsed_sections": []
    },
    "kernelspec": {
      "name": "python3",
      "display_name": "Python 3"
    },
    "language_info": {
      "name": "python"
    }
  },
  "cells": [
    {
      "cell_type": "code",
      "execution_count": null,
      "metadata": {
        "colab": {
          "base_uri": "https://localhost:8080/"
        },
        "id": "_c0TwmcjAF8L",
        "outputId": "99db9c76-c4c4-465e-a8fc-141e123e041f"
      },
      "outputs": [
        {
          "output_type": "stream",
          "name": "stdout",
          "text": [
            "python ali python\n"
          ]
        }
      ],
      "source": [
        "# to Run command, use short key \"Shift +Enter\"\n",
        "\n",
        "print('python' , 'ali' , 'python' , sep=\" \") # words are being seperated not because of comma , but there is a built in function of sep i.e seperate"
      ]
    },
    {
      "cell_type": "code",
      "source": [
        "print ('python') # command execution are started from new line it is because of built in function of end='\\n'\n",
        "print ( 123)\n",
        "print ('zubair')"
      ],
      "metadata": {
        "colab": {
          "base_uri": "https://localhost:8080/"
        },
        "id": "V-rVimJOAKbL",
        "outputId": "15e1352a-75a0-4838-cda9-2ad1b5086836"
      },
      "execution_count": null,
      "outputs": [
        {
          "output_type": "stream",
          "name": "stdout",
          "text": [
            "python\n",
            "123\n",
            "zubair\n"
          ]
        }
      ]
    },
    {
      "cell_type": "code",
      "source": [
        "print ('python' , end='\\t') # escaping characters\n",
        "print (123 , end='\\t')\n",
        "print ('zubair')"
      ],
      "metadata": {
        "colab": {
          "base_uri": "https://localhost:8080/"
        },
        "id": "n_CQjx0gARby",
        "outputId": "f5127b7d-69bb-470c-ed3a-47f92f186ef2"
      },
      "execution_count": null,
      "outputs": [
        {
          "output_type": "stream",
          "name": "stdout",
          "text": [
            "python\t123\tzubair\n"
          ]
        }
      ]
    },
    {
      "cell_type": "code",
      "source": [
        "# VARIABLE FOR STRING & VARIABLE FOR NUMBERS AND ARTHMETIC OPERATIONS\n",
        "a = 10 \n",
        "# here  a is variable (also called identifer) , = is the assigning operator , 10 si the value\n",
        "# we read it like that 10 integer is assigning to variable 'a'\n",
        "print (a)\n",
        "\n",
        "a = 10.6 # here we have overwrite the value of a from 10 to 10.6 or from int to float\n",
        "print (a) \n",
        "type (a)"
      ],
      "metadata": {
        "colab": {
          "base_uri": "https://localhost:8080/"
        },
        "id": "wSO-Qs96AXKy",
        "outputId": "c48d13c5-703e-40ed-9b94-f2575f4707ca"
      },
      "execution_count": null,
      "outputs": [
        {
          "output_type": "stream",
          "name": "stdout",
          "text": [
            "10\n",
            "10.6\n"
          ]
        },
        {
          "output_type": "execute_result",
          "data": {
            "text/plain": [
              "float"
            ]
          },
          "metadata": {},
          "execution_count": 4
        }
      ]
    },
    {
      "cell_type": "code",
      "source": [
        "#concating (jorna)"
      ],
      "metadata": {
        "id": "OtRVgzbXMgf3"
      },
      "execution_count": null,
      "outputs": []
    },
    {
      "cell_type": "code",
      "source": [
        "first_name = 'Ali'\n",
        "Last_name = 'Ismail'\n",
        "print(first_name + Last_name) "
      ],
      "metadata": {
        "id": "0gNFa_eoAaEj",
        "colab": {
          "base_uri": "https://localhost:8080/"
        },
        "outputId": "b58348a9-1ba6-4e50-c652-5cd7c676f7fc"
      },
      "execution_count": null,
      "outputs": [
        {
          "output_type": "stream",
          "name": "stdout",
          "text": [
            "AliIsmail\n"
          ]
        }
      ]
    },
    {
      "cell_type": "code",
      "source": [
        "num1 = 100\n",
        "num2 = 200\n",
        "sum = num1 + num2\n",
        "print (sum)"
      ],
      "metadata": {
        "colab": {
          "base_uri": "https://localhost:8080/"
        },
        "id": "LxnVZXV8Baar",
        "outputId": "0c4c43a4-784a-4596-a445-c5261d4d36a9"
      },
      "execution_count": null,
      "outputs": [
        {
          "output_type": "stream",
          "name": "stdout",
          "text": [
            "300\n"
          ]
        }
      ]
    },
    {
      "cell_type": "code",
      "source": [
        "print (100 + 200)"
      ],
      "metadata": {
        "colab": {
          "base_uri": "https://localhost:8080/"
        },
        "id": "uVStUC-eBrez",
        "outputId": "9f38f94b-e2d9-4a10-fdb5-76bebf3ec9a2"
      },
      "execution_count": null,
      "outputs": [
        {
          "output_type": "stream",
          "name": "stdout",
          "text": [
            "300\n"
          ]
        }
      ]
    },
    {
      "cell_type": "code",
      "source": [
        "aa = 100\n",
        "bb = 10.5\n",
        "cc = (aa) - (bb)\n",
        "print(cc)"
      ],
      "metadata": {
        "id": "woL-B_zNMVnw",
        "colab": {
          "base_uri": "https://localhost:8080/"
        },
        "outputId": "59505b73-ea08-4871-adc9-3c2242eacd0b"
      },
      "execution_count": null,
      "outputs": [
        {
          "output_type": "stream",
          "name": "stdout",
          "text": [
            "89.5\n"
          ]
        }
      ]
    },
    {
      "cell_type": "code",
      "source": [
        "a = 100\n",
        "b = 100\n",
        "c = a/b\n",
        "print(c) # in python by default division is set float"
      ],
      "metadata": {
        "colab": {
          "base_uri": "https://localhost:8080/"
        },
        "id": "-RfH2DaEVLZx",
        "outputId": "6d8cb3f6-580c-4b6e-df0c-5cfdc9ba7c8f"
      },
      "execution_count": null,
      "outputs": [
        {
          "output_type": "stream",
          "name": "stdout",
          "text": [
            "1.0\n"
          ]
        }
      ]
    },
    {
      "cell_type": "code",
      "source": [
        "a = 100\n",
        "b = 100\n",
        "c = a//b # floor division , it discrad the fractional or decimal part\n",
        "print(c) # integer division "
      ],
      "metadata": {
        "colab": {
          "base_uri": "https://localhost:8080/"
        },
        "id": "KXyeVZ4kWTku",
        "outputId": "e286d501-b02a-4af4-abf7-39618ab62cc5"
      },
      "execution_count": null,
      "outputs": [
        {
          "output_type": "stream",
          "name": "stdout",
          "text": [
            "1\n"
          ]
        }
      ]
    },
    {
      "cell_type": "code",
      "source": [
        "a = 100\n",
        "b = 200\n",
        "c = a//b # floor division , it discrad the fractional oe decimal part , does not make round off\n",
        "print(c) # integer division\n",
        "# here 0.5 , decimal  value is cut , so output is 0"
      ],
      "metadata": {
        "colab": {
          "base_uri": "https://localhost:8080/"
        },
        "id": "bQIsM3flXfKl",
        "outputId": "9fed6daa-60f3-4486-a261-5154b6538f30"
      },
      "execution_count": null,
      "outputs": [
        {
          "output_type": "stream",
          "name": "stdout",
          "text": [
            "0\n"
          ]
        }
      ]
    },
    {
      "cell_type": "code",
      "source": [
        "# in python '+ 'is not addition but concatenation sign (to join)\n",
        "a = '25'\n",
        "b = '10'\n",
        "print (a + b)"
      ],
      "metadata": {
        "colab": {
          "base_uri": "https://localhost:8080/"
        },
        "id": "1uK1mV1KXmc1",
        "outputId": "05e04a36-5cc8-473d-fa16-1638b3ad4f0f"
      },
      "execution_count": null,
      "outputs": [
        {
          "output_type": "stream",
          "name": "stdout",
          "text": [
            "2510\n"
          ]
        }
      ]
    },
    {
      "cell_type": "code",
      "source": [
        "# LOGICAL OPERATORS AND IF ELSE COMMAND\n",
        "#Logical operators such as < ,> , => , =< =! \n",
        "# output of logical operators always be TRUE or FALSE\n",
        "a = 100\n",
        "b = 200\n",
        "if a<b:  # returns true , \n",
        "# after colon (:) indent or block started i.e. \\t\n",
        "  print('a is less than b')\n",
        "  print ( 'a has been executed')\n",
        "print ('ali')\n",
        "if b<a: # returns false , \n",
        "  print('b is less than a') # in false condition this block will not be executed\n",
        "print ('bunty')"
      ],
      "metadata": {
        "colab": {
          "base_uri": "https://localhost:8080/"
        },
        "id": "pUs5ZQgqYlRU",
        "outputId": "997d4f65-c765-4b91-8aca-6eef04d84670"
      },
      "execution_count": null,
      "outputs": [
        {
          "output_type": "stream",
          "name": "stdout",
          "text": [
            "a is less than b\n",
            "a has been executed\n",
            "ali\n",
            "bunty\n"
          ]
        }
      ]
    },
    {
      "cell_type": "code",
      "source": [
        "a = 200\n",
        "b = 100\n",
        "c = input (' type the number')\n",
        "print (c)\n"
      ],
      "metadata": {
        "colab": {
          "base_uri": "https://localhost:8080/"
        },
        "id": "tYwsyaoQehTG",
        "outputId": "6c37c274-0283-48e0-b7bb-f3a81c4ab89a"
      },
      "execution_count": null,
      "outputs": [
        {
          "output_type": "stream",
          "name": "stdout",
          "text": [
            " type the numberhhhh\n",
            "hhhh\n"
          ]
        }
      ]
    },
    {
      "cell_type": "code",
      "source": [
        "# COMMENTS & INPUT COMMAND\n",
        "#\n",
        "#\n",
        "#\n",
        "\n",
        "#LIST (USE TO SAVE NUMBER OF VALUES IN A SINGLE VARIABLE)\n",
        "#INDEX = POSITION\n",
        "# IN A LIST , DIFFERNT DATA TYPES CAN BE ADDED , DENOTED BY [  ]\n",
        "STUDENTS = ['ali' , 'Ismail', 'Hussain']\n",
        "cities = ['khi' , 'lhe' , 'mux']\n",
        "#        0   ,      1  ,    2\n",
        "cities[1]\n"
      ],
      "metadata": {
        "id": "sgtGFluy2xHa",
        "colab": {
          "base_uri": "https://localhost:8080/",
          "height": 35
        },
        "outputId": "27bf0afa-3299-4820-99d8-d48e915a6147"
      },
      "execution_count": null,
      "outputs": [
        {
          "output_type": "execute_result",
          "data": {
            "text/plain": [
              "'lhe'"
            ],
            "application/vnd.google.colaboratory.intrinsic+json": {
              "type": "string"
            }
          },
          "metadata": {},
          "execution_count": 19
        }
      ]
    },
    {
      "cell_type": "code",
      "source": [
        "#Adding members into list { APPEND AND INSERT}\n",
        "# APPNED simpli add new member at the end of list and add only one value while \n",
        "# with the help of INSERT , you can add member at anywere by specifying an index number\n",
        "\n",
        "cities = ['khi' , 'lhe' , 'mux']\n",
        "cities.append('isb')\n",
        "cities\n"
      ],
      "metadata": {
        "colab": {
          "base_uri": "https://localhost:8080/"
        },
        "id": "yS2bvc6NOR4r",
        "outputId": "4b1725da-641b-4403-da42-64cf9f2d89db"
      },
      "execution_count": null,
      "outputs": [
        {
          "output_type": "execute_result",
          "data": {
            "text/plain": [
              "['khi', 'lhe', 'mux', 'isb']"
            ]
          },
          "metadata": {},
          "execution_count": 41
        }
      ]
    },
    {
      "cell_type": "code",
      "source": [
        "A = [1,2,3,4,5] # ADDING TWO LISTS \n",
        "B = [6,7,8,9]\n",
        "print(A + B)"
      ],
      "metadata": {
        "colab": {
          "base_uri": "https://localhost:8080/"
        },
        "id": "A1qp9lOzSbWj",
        "outputId": "1fbda4a3-0d6e-476b-f20a-3ab609305753"
      },
      "execution_count": null,
      "outputs": [
        {
          "output_type": "stream",
          "name": "stdout",
          "text": [
            "[1, 2, 3, 4, 5, 6, 7, 8, 9]\n"
          ]
        }
      ]
    },
    {
      "cell_type": "code",
      "source": [
        "cities = ['khi', 'lhe', 'mux', 'isb'] # with insert we can add value at specified index\n",
        "cities.insert(2,'uet')\n",
        "cities\n"
      ],
      "metadata": {
        "colab": {
          "base_uri": "https://localhost:8080/"
        },
        "id": "Stx_ZZWxOXmb",
        "outputId": "7154ff1a-669a-41a5-995a-3bd5b556d520"
      },
      "execution_count": null,
      "outputs": [
        {
          "output_type": "execute_result",
          "data": {
            "text/plain": [
              "['khi', 'lhe', 'uet', 'mux', 'isb']"
            ]
          },
          "metadata": {},
          "execution_count": 26
        }
      ]
    },
    {
      "cell_type": "code",
      "source": [
        "cities = ['khi', 'uet', 'lhe', 'mux', 'isb']\n",
        "# Extend is similar to append but cab be add more than one value , by using both small bracket and square bracket\n",
        "cities.extend(['pew', 'BHW', 'khi', 'khi'])\n",
        "cities\n"
      ],
      "metadata": {
        "colab": {
          "base_uri": "https://localhost:8080/"
        },
        "id": "KWnnUPAeb6ae",
        "outputId": "e83e07a6-c243-43ef-bc5d-d90cf8b37221"
      },
      "execution_count": null,
      "outputs": [
        {
          "output_type": "execute_result",
          "data": {
            "text/plain": [
              "['khi', 'uet', 'lhe', 'mux', 'isb', 'pew', 'BHW', 'khi', 'khi']"
            ]
          },
          "metadata": {},
          "execution_count": 43
        }
      ]
    },
    {
      "cell_type": "code",
      "source": [
        "cities = ['khi', 'uet', 'lhe', 'mux', 'isb', 'pew', 'BHW', 'khi', 'khi']\n",
        "# Len function\n",
        "len(cities)\n"
      ],
      "metadata": {
        "colab": {
          "base_uri": "https://localhost:8080/"
        },
        "id": "-hyo4UsFcHgm",
        "outputId": "de56168c-2d48-413e-f3a8-5d1f2db31d25"
      },
      "execution_count": null,
      "outputs": [
        {
          "output_type": "execute_result",
          "data": {
            "text/plain": [
              "9"
            ]
          },
          "metadata": {},
          "execution_count": 33
        }
      ]
    },
    {
      "cell_type": "code",
      "source": [
        "cities = ['khi', 'uet', 'lhe', 'mux', 'isb', 'pew', 'BHW', 'khi', 'khi']\n",
        "# Count function\n",
        "cities.count('khi')"
      ],
      "metadata": {
        "colab": {
          "base_uri": "https://localhost:8080/"
        },
        "id": "ilunXK9L90fm",
        "outputId": "de638042-ba69-447d-c85b-bc53057cdfb4"
      },
      "execution_count": null,
      "outputs": [
        {
          "output_type": "execute_result",
          "data": {
            "text/plain": [
              "3"
            ]
          },
          "metadata": {},
          "execution_count": 34
        }
      ]
    },
    {
      "cell_type": "code",
      "source": [
        "cities = ['khi', 'uet', 'lhe', 'mux', 'isb', 'pew', 'BHW', 'khi', 'khi']\n",
        "# index function\n",
        "cities[-3]"
      ],
      "metadata": {
        "colab": {
          "base_uri": "https://localhost:8080/",
          "height": 35
        },
        "id": "726SYcR4cwzE",
        "outputId": "8a82c924-8a24-47ec-db6e-f0b71cf2f3d9"
      },
      "execution_count": null,
      "outputs": [
        {
          "output_type": "execute_result",
          "data": {
            "text/plain": [
              "'BHW'"
            ],
            "application/vnd.google.colaboratory.intrinsic+json": {
              "type": "string"
            }
          },
          "metadata": {},
          "execution_count": 53
        }
      ]
    },
    {
      "cell_type": "code",
      "source": [
        "cities = ['khi', 'uet', 'lhe', 'mux', 'isb', 'pew', 'BHW', 'khi', 'khi']\n",
        "# index function\n",
        "cities.index('pew')"
      ],
      "metadata": {
        "colab": {
          "base_uri": "https://localhost:8080/"
        },
        "id": "zoDh11u-cSD2",
        "outputId": "907c9435-e26d-4332-a512-a54a9a5a9f76"
      },
      "execution_count": null,
      "outputs": [
        {
          "output_type": "execute_result",
          "data": {
            "text/plain": [
              "5"
            ]
          },
          "metadata": {},
          "execution_count": 49
        }
      ]
    },
    {
      "cell_type": "code",
      "source": [
        "cities[5]"
      ],
      "metadata": {
        "colab": {
          "base_uri": "https://localhost:8080/",
          "height": 35
        },
        "id": "OK8JlhF1c9dw",
        "outputId": "afef4e04-c3c1-4fa9-ae4f-432778c36b99"
      },
      "execution_count": null,
      "outputs": [
        {
          "output_type": "execute_result",
          "data": {
            "text/plain": [
              "'pew'"
            ],
            "application/vnd.google.colaboratory.intrinsic+json": {
              "type": "string"
            }
          },
          "metadata": {},
          "execution_count": 54
        }
      ]
    },
    {
      "cell_type": "code",
      "source": [
        "# REMOVE FUNCTION \n",
        "cities = ['khi', 'uet', 'lhe', 'mux', 'isb', 'pew', 'BHW', 'khi', 'khi']\n",
        "cities.remove('uet') # remove requires value\n",
        "cities # uet REMOVED\n",
        "\n",
        "del cities[-1] # it requires index where del is a statement\n",
        "cities\n"
      ],
      "metadata": {
        "colab": {
          "base_uri": "https://localhost:8080/"
        },
        "id": "_aYmSt_vdZ2V",
        "outputId": "8988eb32-46c9-4f4d-b1d2-4e86cc68b9f6"
      },
      "execution_count": null,
      "outputs": [
        {
          "output_type": "execute_result",
          "data": {
            "text/plain": [
              "['khi', 'lhe', 'mux', 'isb', 'pew', 'BHW', 'khi']"
            ]
          },
          "metadata": {},
          "execution_count": 76
        }
      ]
    },
    {
      "cell_type": "code",
      "source": [
        "# POP Function , it is also used to remove item from list , with this , we can store delete value in a variable i.e. newcity\n",
        "cities = ['khi', 'uet', 'lhe', 'mux', 'isb', 'pew', 'BHW', 'khi']\n",
        "newcity = cities.pop()\n",
        "print(f\"the city popped from the list is {newcity}\")\n",
        "print(f\"remaining city list is {cities}\")\n"
      ],
      "metadata": {
        "colab": {
          "base_uri": "https://localhost:8080/"
        },
        "id": "HXdgOIeyt3Tk",
        "outputId": "6937560f-2f5d-46c2-c28d-9f87f8f8a35f"
      },
      "execution_count": null,
      "outputs": [
        {
          "output_type": "stream",
          "name": "stdout",
          "text": [
            "the city popped from the list is khi\n",
            "remaining city list is ['khi', 'uet', 'lhe', 'mux', 'isb', 'pew', 'BHW']\n"
          ]
        }
      ]
    },
    {
      "cell_type": "code",
      "source": [
        "# POP Function , it is also used to remove item from list , with this , we can store delete value in a variable i.e. newcity\n",
        "cities = ['khi', 'uet', 'lhe', 'mux', 'isb', 'pew', 'BHW']\n",
        "newcity = cities.pop()\n",
        "print(f\"the city popped from the list is {newcity}\")\n",
        "print(f\"remaining city list is {cities}\")\n"
      ],
      "metadata": {
        "colab": {
          "base_uri": "https://localhost:8080/"
        },
        "id": "rBzmgJzIwfcX",
        "outputId": "99c45485-d877-445b-c533-817a5b9367c3"
      },
      "execution_count": null,
      "outputs": [
        {
          "output_type": "stream",
          "name": "stdout",
          "text": [
            "the city popped from the list is BHW\n",
            "remaining city list is ['khi', 'uet', 'lhe', 'mux', 'isb', 'pew']\n"
          ]
        }
      ]
    },
    {
      "cell_type": "code",
      "source": [
        "cities = ['khi', 'uet', 'lhe', 'mux', 'isb', 'pew', 'BHW']\n",
        "newcity = cities.pop(-1) # here in pop we can also give index of an item \n",
        "cities\n",
        "newcity # in pop function item deleted and stored in new variable i.e. newcity"
      ],
      "metadata": {
        "colab": {
          "base_uri": "https://localhost:8080/",
          "height": 35
        },
        "id": "UWjgpwBEwzVA",
        "outputId": "2a2d9752-1ac0-407e-ef06-ae7792289337"
      },
      "execution_count": null,
      "outputs": [
        {
          "output_type": "execute_result",
          "data": {
            "text/plain": [
              "'BHW'"
            ],
            "application/vnd.google.colaboratory.intrinsic+json": {
              "type": "string"
            }
          },
          "metadata": {},
          "execution_count": 103
        }
      ]
    },
    {
      "cell_type": "code",
      "source": [
        "cities.clear() # list completely cleared\n",
        "cities"
      ],
      "metadata": {
        "colab": {
          "base_uri": "https://localhost:8080/"
        },
        "id": "wVLcO_zed9ML",
        "outputId": "e54e839a-767f-4e3b-eec4-3ef7be726313"
      },
      "execution_count": null,
      "outputs": [
        {
          "output_type": "execute_result",
          "data": {
            "text/plain": [
              "[]"
            ]
          },
          "metadata": {},
          "execution_count": 99
        }
      ]
    },
    {
      "cell_type": "code",
      "source": [
        " # COPY          # by Value , its making new object thats why it is not linked or not making reference while edit\n",
        "cities = ['khi', 'uet', 'lhe', 'mux', 'isb', 'pew', 'BHW', 'khi', 'khi']\n",
        "cities2 = cities.copy()\n",
        "cities\n"
      ],
      "metadata": {
        "colab": {
          "base_uri": "https://localhost:8080/"
        },
        "id": "RPm890yqeWij",
        "outputId": "62526f9a-ec42-41cb-da3d-bd864732edbf"
      },
      "execution_count": null,
      "outputs": [
        {
          "output_type": "execute_result",
          "data": {
            "text/plain": [
              "['khi', 'uet', 'lhe', 'mux', 'isb', 'pew', 'BHW', 'khi', 'khi']"
            ]
          },
          "metadata": {},
          "execution_count": 68
        }
      ]
    },
    {
      "cell_type": "code",
      "source": [
        "cities3 = cities # by reference , not making seperate object but linking while edit\n",
        "cities.append('newcity')\n",
        "cities3\n"
      ],
      "metadata": {
        "colab": {
          "base_uri": "https://localhost:8080/"
        },
        "id": "nHwmgXzng2cS",
        "outputId": "274a8e65-b157-4155-b5fc-21d437d7a6a4"
      },
      "execution_count": null,
      "outputs": [
        {
          "output_type": "execute_result",
          "data": {
            "text/plain": [
              "['khi', 'uet', 'lhe', 'mux', 'isb', 'pew', 'BHW', 'khi', 'khi', 'newcity']"
            ]
          },
          "metadata": {},
          "execution_count": 69
        }
      ]
    },
    {
      "cell_type": "code",
      "source": [
        "cities2"
      ],
      "metadata": {
        "colab": {
          "base_uri": "https://localhost:8080/"
        },
        "id": "IL3Lm9_cg45J",
        "outputId": "8e4519e0-b929-4a40-da93-b10acb7e2134"
      },
      "execution_count": null,
      "outputs": [
        {
          "output_type": "execute_result",
          "data": {
            "text/plain": [
              "['khi', 'uet', 'lhe', 'mux', 'isb', 'pew', 'BHW', 'khi', 'khi']"
            ]
          },
          "metadata": {},
          "execution_count": 70
        }
      ]
    },
    {
      "cell_type": "code",
      "source": [
        "# Sort function ASCENDING order\n",
        "cities.sort()\n",
        "cities"
      ],
      "metadata": {
        "colab": {
          "base_uri": "https://localhost:8080/"
        },
        "id": "QSm312QzjMtW",
        "outputId": "7ed49ea7-9cc5-4b4c-847a-6f4829113e87"
      },
      "execution_count": null,
      "outputs": [
        {
          "output_type": "execute_result",
          "data": {
            "text/plain": [
              "['BHW', 'isb', 'khi', 'khi', 'lhe', 'mux', 'pew']"
            ]
          },
          "metadata": {},
          "execution_count": 80
        }
      ]
    },
    {
      "cell_type": "code",
      "source": [
        "cities.sort(reverse=True) # Sort function DESCENDING order\n",
        "cities"
      ],
      "metadata": {
        "colab": {
          "base_uri": "https://localhost:8080/"
        },
        "id": "r5fBuS7An7Ft",
        "outputId": "f09bedd6-2bde-487e-9709-43e04b3ea0e7"
      },
      "execution_count": null,
      "outputs": [
        {
          "output_type": "execute_result",
          "data": {
            "text/plain": [
              "['pew', 'mux', 'lhe', 'khi', 'khi', 'isb', 'BHW']"
            ]
          },
          "metadata": {},
          "execution_count": 79
        }
      ]
    },
    {
      "cell_type": "code",
      "source": [
        "# REVERSE FUNCTION , simpli reverse the order without sorting\n",
        "cities = ['khi', 'uet', 'lhe', 'mux', 'isb', 'pew', 'BHW', 'khi', 'khi']\n",
        "cities.reverse()\n",
        "cities"
      ],
      "metadata": {
        "colab": {
          "base_uri": "https://localhost:8080/"
        },
        "id": "0fcEbN2hoGMa",
        "outputId": "9ca7385c-3e05-48dd-981b-967faea5925f"
      },
      "execution_count": null,
      "outputs": [
        {
          "output_type": "execute_result",
          "data": {
            "text/plain": [
              "['khi', 'khi', 'BHW', 'pew', 'isb', 'mux', 'lhe', 'uet', 'khi']"
            ]
          },
          "metadata": {},
          "execution_count": 87
        }
      ]
    },
    {
      "cell_type": "code",
      "source": [
        "# SLICING \n",
        "#           0     1        2     3       4      5      6     7       8\n",
        "cities = ['khi', 'uet', 'lhe', 'mux', 'isb', 'pew', 'BHW', 'khi' , 'khi']\n",
        "#           -9    -8     -7    -6      -5     -4     -3     -2      -1  "
      ],
      "metadata": {
        "id": "uLW48h06z3gd"
      },
      "execution_count": null,
      "outputs": []
    },
    {
      "cell_type": "code",
      "source": [
        "cities[0 : -8]"
      ],
      "metadata": {
        "colab": {
          "base_uri": "https://localhost:8080/"
        },
        "id": "yuEDgVdOqtqS",
        "outputId": "9f763e0a-42e4-45fb-95e4-14e00b77dfea"
      },
      "execution_count": null,
      "outputs": [
        {
          "output_type": "execute_result",
          "data": {
            "text/plain": [
              "['khi']"
            ]
          },
          "metadata": {},
          "execution_count": 6
        }
      ]
    },
    {
      "cell_type": "code",
      "source": [
        "cities[ : ]"
      ],
      "metadata": {
        "id": "Bl7TJbA0qzvz",
        "colab": {
          "base_uri": "https://localhost:8080/"
        },
        "outputId": "edc831f0-7b60-46b6-ff2e-d719ab05cd27"
      },
      "execution_count": null,
      "outputs": [
        {
          "output_type": "execute_result",
          "data": {
            "text/plain": [
              "['khi', 'uet', 'lhe', 'mux', 'isb', 'pew', 'BHW', 'khi', 'khi']"
            ]
          },
          "metadata": {},
          "execution_count": 7
        }
      ]
    },
    {
      "cell_type": "code",
      "source": [
        "cities[0 : ]"
      ],
      "metadata": {
        "colab": {
          "base_uri": "https://localhost:8080/"
        },
        "id": "3zyMyNO30g7u",
        "outputId": "6134b267-0697-4c3b-a2d8-092075b40d27"
      },
      "execution_count": null,
      "outputs": [
        {
          "output_type": "execute_result",
          "data": {
            "text/plain": [
              "['khi', 'uet', 'lhe', 'mux', 'isb', 'pew', 'BHW', 'khi', 'khi']"
            ]
          },
          "metadata": {},
          "execution_count": 8
        }
      ]
    },
    {
      "cell_type": "code",
      "source": [
        "#cities [start : excluding] , index will always follow from left to right direction\n",
        "cities[1 : 5]"
      ],
      "metadata": {
        "colab": {
          "base_uri": "https://localhost:8080/"
        },
        "id": "Bz3W9fuX0kY4",
        "outputId": "2ecdaeb8-5703-448c-deb5-e90e982106d8"
      },
      "execution_count": null,
      "outputs": [
        {
          "output_type": "execute_result",
          "data": {
            "text/plain": [
              "['uet', 'lhe', 'mux', 'isb']"
            ]
          },
          "metadata": {},
          "execution_count": 9
        }
      ]
    },
    {
      "cell_type": "code",
      "source": [
        "cities[-4:-2]\n"
      ],
      "metadata": {
        "colab": {
          "base_uri": "https://localhost:8080/"
        },
        "id": "l5MJzn4k06Pe",
        "outputId": "261dc0bf-cbac-4fe8-b3c1-1ae910cd15f9"
      },
      "execution_count": null,
      "outputs": [
        {
          "output_type": "execute_result",
          "data": {
            "text/plain": [
              "['pew', 'BHW']"
            ]
          },
          "metadata": {},
          "execution_count": 20
        }
      ]
    },
    {
      "cell_type": "code",
      "source": [
        "cities[ : 5]"
      ],
      "metadata": {
        "colab": {
          "base_uri": "https://localhost:8080/"
        },
        "id": "-rL0d2Ht1Se2",
        "outputId": "cf306fef-d4e9-4ba4-d6ec-96ef3b8c0376"
      },
      "execution_count": null,
      "outputs": [
        {
          "output_type": "execute_result",
          "data": {
            "text/plain": [
              "['khi', 'uet', 'lhe', 'mux', 'isb']"
            ]
          },
          "metadata": {},
          "execution_count": 21
        }
      ]
    },
    {
      "cell_type": "code",
      "source": [
        "cities[2 : -1]"
      ],
      "metadata": {
        "colab": {
          "base_uri": "https://localhost:8080/"
        },
        "id": "KGiTQXMD3UdJ",
        "outputId": "2287b135-f014-44cd-a492-65ddf13ad3a1"
      },
      "execution_count": null,
      "outputs": [
        {
          "output_type": "execute_result",
          "data": {
            "text/plain": [
              "['lhe', 'mux', 'isb', 'pew', 'BHW', 'khi']"
            ]
          },
          "metadata": {},
          "execution_count": 22
        }
      ]
    },
    {
      "cell_type": "code",
      "source": [
        "# STEP ( JUMP) PRACTICE IN SLICING [start : end : step]\n",
        "nums = [1,2,3,3,4,5,6,7,8,9,10,11,12,13,17,18,19,20]\n",
        "nums[0:10:2 ]"
      ],
      "metadata": {
        "colab": {
          "base_uri": "https://localhost:8080/"
        },
        "id": "_Nk_8vYk3hLY",
        "outputId": "368efcfe-169d-41e3-80f5-6b7b38e5e844"
      },
      "execution_count": null,
      "outputs": [
        {
          "output_type": "execute_result",
          "data": {
            "text/plain": [
              "[1, 3, 4, 6, 8]"
            ]
          },
          "metadata": {},
          "execution_count": 24
        }
      ]
    },
    {
      "cell_type": "code",
      "source": [
        "nums [ : : 5]"
      ],
      "metadata": {
        "colab": {
          "base_uri": "https://localhost:8080/"
        },
        "id": "ghBHrfPZ5V39",
        "outputId": "55d48bff-e3a3-4c2d-e522-3a995132ee5c"
      },
      "execution_count": null,
      "outputs": [
        {
          "output_type": "execute_result",
          "data": {
            "text/plain": [
              "[1, 5, 10, 18]"
            ]
          },
          "metadata": {},
          "execution_count": 25
        }
      ]
    },
    {
      "cell_type": "code",
      "source": [
        "# TUPLE (Same like list but immutable i.e. cannot be changed , del , edit or added items once excuted)\n",
        "# tuple gives two functions count and index\n",
        "#tuple can be used without bracket\n",
        "a = 25 , 3\n",
        "b = (22 , 25)\n"
      ],
      "metadata": {
        "id": "XyNPRcr36SPi"
      },
      "execution_count": null,
      "outputs": []
    },
    {
      "cell_type": "code",
      "source": [
        "print(type(a))\n",
        "print(a)\n",
        "print(type(b))\n",
        "print(b)\n"
      ],
      "metadata": {
        "colab": {
          "base_uri": "https://localhost:8080/"
        },
        "id": "H5HoqZK6SjnD",
        "outputId": "e1f2c006-b28e-4026-eb12-6ddb6b9989c4"
      },
      "execution_count": null,
      "outputs": [
        {
          "output_type": "stream",
          "name": "stdout",
          "text": [
            "<class 'tuple'>\n",
            "(25, 3)\n",
            "<class 'tuple'>\n",
            "(22, 25)\n"
          ]
        }
      ]
    },
    {
      "cell_type": "code",
      "source": [
        "del a [1] # see tuple cannot be delete , it is immutable"
      ],
      "metadata": {
        "colab": {
          "base_uri": "https://localhost:8080/",
          "height": 165
        },
        "id": "-ZWcm0FMS37O",
        "outputId": "6da4612c-33db-480e-f872-37aec17f0cd5"
      },
      "execution_count": null,
      "outputs": [
        {
          "output_type": "error",
          "ename": "TypeError",
          "evalue": "ignored",
          "traceback": [
            "\u001b[0;31m---------------------------------------------------------------------------\u001b[0m",
            "\u001b[0;31mTypeError\u001b[0m                                 Traceback (most recent call last)",
            "\u001b[0;32m<ipython-input-51-94dcde2d049e>\u001b[0m in \u001b[0;36m<module>\u001b[0;34m()\u001b[0m\n\u001b[0;32m----> 1\u001b[0;31m \u001b[0;32mdel\u001b[0m \u001b[0ma\u001b[0m \u001b[0;34m[\u001b[0m\u001b[0;36m1\u001b[0m\u001b[0;34m]\u001b[0m\u001b[0;34m\u001b[0m\u001b[0;34m\u001b[0m\u001b[0m\n\u001b[0m",
            "\u001b[0;31mTypeError\u001b[0m: 'tuple' object doesn't support item deletion"
          ]
        }
      ]
    },
    {
      "cell_type": "code",
      "source": [
        "a.append[77] # see tuple cannot be edit via new item addition   , it is immutable"
      ],
      "metadata": {
        "colab": {
          "base_uri": "https://localhost:8080/",
          "height": 165
        },
        "id": "dRI29_qgUyHV",
        "outputId": "205c43bd-20e3-4a65-9592-64552f3a010a"
      },
      "execution_count": null,
      "outputs": [
        {
          "output_type": "error",
          "ename": "AttributeError",
          "evalue": "ignored",
          "traceback": [
            "\u001b[0;31m---------------------------------------------------------------------------\u001b[0m",
            "\u001b[0;31mAttributeError\u001b[0m                            Traceback (most recent call last)",
            "\u001b[0;32m<ipython-input-56-9eb5246f56e9>\u001b[0m in \u001b[0;36m<module>\u001b[0;34m()\u001b[0m\n\u001b[0;32m----> 1\u001b[0;31m \u001b[0ma\u001b[0m\u001b[0;34m.\u001b[0m\u001b[0mappend\u001b[0m\u001b[0;34m[\u001b[0m\u001b[0;36m77\u001b[0m\u001b[0;34m]\u001b[0m\u001b[0;34m\u001b[0m\u001b[0;34m\u001b[0m\u001b[0m\n\u001b[0m",
            "\u001b[0;31mAttributeError\u001b[0m: 'tuple' object has no attribute 'append'"
          ]
        }
      ]
    },
    {
      "cell_type": "code",
      "source": [
        "# FOR LOOP (USE FOR REPEATING TASK)\n",
        "for a in range (5): # here range is used for how much time to repeat the action\n",
        "  print( a ,'Ali') # a is variable starts from 0 , 1,2,3,4"
      ],
      "metadata": {
        "colab": {
          "base_uri": "https://localhost:8080/"
        },
        "id": "RiEZKy7jdydo",
        "outputId": "773f86d0-43f1-47e6-9286-0a53c955b396"
      },
      "execution_count": null,
      "outputs": [
        {
          "output_type": "stream",
          "name": "stdout",
          "text": [
            "0 Ali\n",
            "1 Ali\n",
            "2 Ali\n",
            "3 Ali\n",
            "4 Ali\n"
          ]
        }
      ]
    },
    {
      "cell_type": "code",
      "source": [
        "for number in range (10): # started from 0\n",
        "  print (number)"
      ],
      "metadata": {
        "colab": {
          "base_uri": "https://localhost:8080/"
        },
        "id": "doaXIb0PdyGg",
        "outputId": "85f20743-5c69-45e7-d4b1-2bd5f70bdd50"
      },
      "execution_count": null,
      "outputs": [
        {
          "output_type": "stream",
          "name": "stdout",
          "text": [
            "0\n",
            "1\n",
            "2\n",
            "3\n",
            "4\n",
            "5\n",
            "6\n",
            "7\n",
            "8\n",
            "9\n"
          ]
        }
      ]
    },
    {
      "cell_type": "code",
      "source": [
        "for number in range ( 1, 10): # started from 1\n",
        "  print (number)"
      ],
      "metadata": {
        "colab": {
          "base_uri": "https://localhost:8080/"
        },
        "id": "ODG02ya1fjaU",
        "outputId": "70ac0027-4b01-4902-ac7e-b9fc4593864b"
      },
      "execution_count": null,
      "outputs": [
        {
          "output_type": "stream",
          "name": "stdout",
          "text": [
            "1\n",
            "2\n",
            "3\n",
            "4\n",
            "5\n",
            "6\n",
            "7\n",
            "8\n",
            "9\n"
          ]
        }
      ]
    },
    {
      "cell_type": "code",
      "source": [
        "for number in range ( 1, 10 , 2): # started from 1 with step 2\n",
        "  print (number)"
      ],
      "metadata": {
        "colab": {
          "base_uri": "https://localhost:8080/"
        },
        "id": "_aJnNcW8fudy",
        "outputId": "894758f3-0080-4cae-ee02-0a54434feaa1"
      },
      "execution_count": null,
      "outputs": [
        {
          "output_type": "stream",
          "name": "stdout",
          "text": [
            "1\n",
            "3\n",
            "5\n",
            "7\n",
            "9\n"
          ]
        }
      ]
    },
    {
      "cell_type": "code",
      "source": [
        "# for reverse order \n",
        "for number in range ( 10, 1 , -2): # started from 10 with step 2\n",
        "  print (number)"
      ],
      "metadata": {
        "colab": {
          "base_uri": "https://localhost:8080/"
        },
        "id": "xkElujHhgE-W",
        "outputId": "a50e3439-c778-4313-c9a1-5b39ccbe3b43"
      },
      "execution_count": null,
      "outputs": [
        {
          "output_type": "stream",
          "name": "stdout",
          "text": [
            "10\n",
            "8\n",
            "6\n",
            "4\n",
            "2\n"
          ]
        }
      ]
    },
    {
      "cell_type": "code",
      "source": [
        "# for loop using list\n",
        "cities = ['khi', 'uet', 'lhe', 'mux', 'isb', 'pew', 'BHW', 'khi' , 'khi']\n",
        "for city in cities:\n",
        "  print (f' the city is under consideration {city}')"
      ],
      "metadata": {
        "colab": {
          "base_uri": "https://localhost:8080/"
        },
        "id": "5Qt_52S_gZye",
        "outputId": "5e139b29-0e35-405e-af18-94d546abc78c"
      },
      "execution_count": null,
      "outputs": [
        {
          "output_type": "stream",
          "name": "stdout",
          "text": [
            " the city is under consideration khi\n",
            " the city is under consideration uet\n",
            " the city is under consideration lhe\n",
            " the city is under consideration mux\n",
            " the city is under consideration isb\n",
            " the city is under consideration pew\n",
            " the city is under consideration BHW\n",
            " the city is under consideration khi\n",
            " the city is under consideration khi\n"
          ]
        }
      ]
    },
    {
      "cell_type": "code",
      "source": [
        "for number in [11,22,33,44,55]:\n",
        "  print(number)"
      ],
      "metadata": {
        "colab": {
          "base_uri": "https://localhost:8080/"
        },
        "id": "I4BM5PNZgw7A",
        "outputId": "d8257774-074c-468f-ec52-c07bd329372b"
      },
      "execution_count": null,
      "outputs": [
        {
          "output_type": "stream",
          "name": "stdout",
          "text": [
            "11\n",
            "22\n",
            "33\n",
            "44\n",
            "55\n"
          ]
        }
      ]
    },
    {
      "cell_type": "code",
      "source": [
        "country = 'PAKISTAN'\n",
        "for chac in country:\n",
        "  print(chac)"
      ],
      "metadata": {
        "colab": {
          "base_uri": "https://localhost:8080/"
        },
        "id": "JBsl_BUowcaO",
        "outputId": "5a6a32b3-a5d9-4989-a040-b1f60b923ae4"
      },
      "execution_count": null,
      "outputs": [
        {
          "output_type": "stream",
          "name": "stdout",
          "text": [
            "P\n",
            "A\n",
            "K\n",
            "I\n",
            "S\n",
            "T\n",
            "A\n",
            "N\n"
          ]
        }
      ]
    },
    {
      "cell_type": "code",
      "source": [
        "country = 'PAKISTAN' , 'AMERICA'\n",
        "for chac in country:\n",
        "  print(chac)"
      ],
      "metadata": {
        "colab": {
          "base_uri": "https://localhost:8080/"
        },
        "id": "ufX1GN010izs",
        "outputId": "cdae6895-db90-48bc-d88c-979395394031"
      },
      "execution_count": null,
      "outputs": [
        {
          "output_type": "stream",
          "name": "stdout",
          "text": [
            "PAKISTAN\n",
            "AMERICA\n"
          ]
        }
      ]
    },
    {
      "cell_type": "code",
      "source": [
        "#FOR LOOPS BREAK AND CONTINUE (here continue means SKIP the VALUE)\n",
        "\n",
        "for number in [5 ,7 , 11 ,90]:\n",
        "  if number%2==0:\n",
        "    break\n",
        "  print(number)\n"
      ],
      "metadata": {
        "colab": {
          "base_uri": "https://localhost:8080/"
        },
        "id": "euWLWHzu04GY",
        "outputId": "8cd31586-da61-474a-8c3a-31fe1ccecc81"
      },
      "execution_count": null,
      "outputs": [
        {
          "output_type": "stream",
          "name": "stdout",
          "text": [
            "5\n",
            "7\n",
            "11\n"
          ]
        }
      ]
    },
    {
      "cell_type": "code",
      "source": [
        "for num in range(10): \n",
        "  if num==7 or num==4: # number 4 and number 7 are skipped when using continue\n",
        "    continue\n",
        "  print(num)\n",
        "\n"
      ],
      "metadata": {
        "colab": {
          "base_uri": "https://localhost:8080/"
        },
        "id": "xNaYG8424rYO",
        "outputId": "4f55d7cd-8a36-4a06-9124-cc6a8f8fc93e"
      },
      "execution_count": null,
      "outputs": [
        {
          "output_type": "stream",
          "name": "stdout",
          "text": [
            "0\n",
            "1\n",
            "2\n",
            "3\n",
            "5\n",
            "6\n",
            "8\n",
            "9\n"
          ]
        }
      ]
    },
    {
      "cell_type": "code",
      "source": [
        "# Nested Loop i.e loop within loop \n",
        "for a in range (0 ,5):\n",
        "  print('inner loop')\n",
        "  for char in 'AMERICA':\n",
        "    print (a, char)\n",
        " \n",
        "  "
      ],
      "metadata": {
        "id": "jlDaGX5t5FqV",
        "colab": {
          "base_uri": "https://localhost:8080/"
        },
        "outputId": "ec5a0c5b-540c-4dbe-84e9-0ec401a5ac7b"
      },
      "execution_count": null,
      "outputs": [
        {
          "output_type": "stream",
          "name": "stdout",
          "text": [
            "inner loop\n",
            "0 A\n",
            "0 M\n",
            "0 E\n",
            "0 R\n",
            "0 I\n",
            "0 C\n",
            "0 A\n",
            "inner loop\n",
            "1 A\n",
            "1 M\n",
            "1 E\n",
            "1 R\n",
            "1 I\n",
            "1 C\n",
            "1 A\n",
            "inner loop\n",
            "2 A\n",
            "2 M\n",
            "2 E\n",
            "2 R\n",
            "2 I\n",
            "2 C\n",
            "2 A\n",
            "inner loop\n",
            "3 A\n",
            "3 M\n",
            "3 E\n",
            "3 R\n",
            "3 I\n",
            "3 C\n",
            "3 A\n",
            "inner loop\n",
            "4 A\n",
            "4 M\n",
            "4 E\n",
            "4 R\n",
            "4 I\n",
            "4 C\n",
            "4 A\n"
          ]
        }
      ]
    },
    {
      "cell_type": "code",
      "source": [
        "tableNumber = int(input('Table Number'))\n",
        "for table in range (1 , 11):\n",
        "  print(f'{tableNumber} * {table} = {tableNumber*table}')"
      ],
      "metadata": {
        "colab": {
          "base_uri": "https://localhost:8080/"
        },
        "id": "CSy2eqQdLBtZ",
        "outputId": "53f73ae9-5b3d-4d51-91c4-dc5b04c72a5b"
      },
      "execution_count": null,
      "outputs": [
        {
          "output_type": "stream",
          "name": "stdout",
          "text": [
            "Table Number5\n",
            "5 * 1 = 5\n",
            "5 * 2 = 10\n",
            "5 * 3 = 15\n",
            "5 * 4 = 20\n",
            "5 * 5 = 25\n",
            "5 * 6 = 30\n",
            "5 * 7 = 35\n",
            "5 * 8 = 40\n",
            "5 * 9 = 45\n",
            "5 * 10 = 50\n"
          ]
        }
      ]
    },
    {
      "cell_type": "code",
      "source": [
        "Tables = int(input('Enter range of tables')) # nested loop\n",
        "for table in range (2 , Tables+1): \n",
        "  for num in range (1 , 11): \n",
        "    print(f'{table} * {num} = {table*num}')"
      ],
      "metadata": {
        "colab": {
          "base_uri": "https://localhost:8080/"
        },
        "id": "yjYcXxN9OYrI",
        "outputId": "9aa3a6e3-1cb2-44ff-c30d-661539d95004"
      },
      "execution_count": null,
      "outputs": [
        {
          "output_type": "stream",
          "name": "stdout",
          "text": [
            "Enter range of tables5\n",
            "2 * 1 = 2\n",
            "2 * 2 = 4\n",
            "2 * 3 = 6\n",
            "2 * 4 = 8\n",
            "2 * 5 = 10\n",
            "2 * 6 = 12\n",
            "2 * 7 = 14\n",
            "2 * 8 = 16\n",
            "2 * 9 = 18\n",
            "2 * 10 = 20\n",
            "3 * 1 = 3\n",
            "3 * 2 = 6\n",
            "3 * 3 = 9\n",
            "3 * 4 = 12\n",
            "3 * 5 = 15\n",
            "3 * 6 = 18\n",
            "3 * 7 = 21\n",
            "3 * 8 = 24\n",
            "3 * 9 = 27\n",
            "3 * 10 = 30\n",
            "4 * 1 = 4\n",
            "4 * 2 = 8\n",
            "4 * 3 = 12\n",
            "4 * 4 = 16\n",
            "4 * 5 = 20\n",
            "4 * 6 = 24\n",
            "4 * 7 = 28\n",
            "4 * 8 = 32\n",
            "4 * 9 = 36\n",
            "4 * 10 = 40\n",
            "5 * 1 = 5\n",
            "5 * 2 = 10\n",
            "5 * 3 = 15\n",
            "5 * 4 = 20\n",
            "5 * 5 = 25\n",
            "5 * 6 = 30\n",
            "5 * 7 = 35\n",
            "5 * 8 = 40\n",
            "5 * 9 = 45\n",
            "5 * 10 = 50\n"
          ]
        }
      ]
    },
    {
      "cell_type": "code",
      "source": [
        "# TYPE CASTING (int to str or str to int) or convert one data type to another\n",
        "\n",
        "Input_value = input('enter something')\n",
        "type(Input_value)\n"
      ],
      "metadata": {
        "colab": {
          "base_uri": "https://localhost:8080/"
        },
        "id": "wpomayjqQngn",
        "outputId": "ca3b7bc1-3d31-4a92-e55d-89b0e8930844"
      },
      "execution_count": null,
      "outputs": [
        {
          "name": "stdout",
          "output_type": "stream",
          "text": [
            "enter something8\n"
          ]
        },
        {
          "output_type": "execute_result",
          "data": {
            "text/plain": [
              "str"
            ]
          },
          "metadata": {},
          "execution_count": 32
        }
      ]
    },
    {
      "cell_type": "code",
      "source": [
        "Input_value = int(input('enter something')) # here we have type cast i.e. str changed into int\n",
        "type(Input_value)"
      ],
      "metadata": {
        "colab": {
          "base_uri": "https://localhost:8080/"
        },
        "id": "3wbt6-3eZBXF",
        "outputId": "60e0cc62-90cc-4b1a-a64e-fd2d17437859"
      },
      "execution_count": null,
      "outputs": [
        {
          "name": "stdout",
          "output_type": "stream",
          "text": [
            "enter something8\n"
          ]
        },
        {
          "output_type": "execute_result",
          "data": {
            "text/plain": [
              "int"
            ]
          },
          "metadata": {},
          "execution_count": 33
        }
      ]
    },
    {
      "cell_type": "code",
      "source": [
        "name = 'ALI Ismail' # CHANGING CASE\n",
        "name.upper()"
      ],
      "metadata": {
        "colab": {
          "base_uri": "https://localhost:8080/",
          "height": 35
        },
        "id": "2SdC2gkUZH87",
        "outputId": "43714916-aec2-4072-f5ef-5a1131b47c86"
      },
      "execution_count": null,
      "outputs": [
        {
          "output_type": "execute_result",
          "data": {
            "text/plain": [
              "'ALI ISMAIL'"
            ],
            "application/vnd.google.colaboratory.intrinsic+json": {
              "type": "string"
            }
          },
          "metadata": {},
          "execution_count": 46
        }
      ]
    },
    {
      "cell_type": "code",
      "source": [
        "name.title()"
      ],
      "metadata": {
        "colab": {
          "base_uri": "https://localhost:8080/",
          "height": 35
        },
        "id": "cwhs-MFodcQz",
        "outputId": "c107ba6b-42d0-412b-adf5-370654f5a671"
      },
      "execution_count": null,
      "outputs": [
        {
          "output_type": "execute_result",
          "data": {
            "text/plain": [
              "'Ali Ismail'"
            ],
            "application/vnd.google.colaboratory.intrinsic+json": {
              "type": "string"
            }
          },
          "metadata": {},
          "execution_count": 45
        }
      ]
    },
    {
      "cell_type": "code",
      "source": [
        "name.lower()"
      ],
      "metadata": {
        "colab": {
          "base_uri": "https://localhost:8080/",
          "height": 35
        },
        "id": "blsD9x0keArj",
        "outputId": "bb2b637d-f739-45b3-83fb-f6658a41e96a"
      },
      "execution_count": null,
      "outputs": [
        {
          "output_type": "execute_result",
          "data": {
            "text/plain": [
              "'ali ismail'"
            ],
            "application/vnd.google.colaboratory.intrinsic+json": {
              "type": "string"
            }
          },
          "metadata": {},
          "execution_count": 44
        }
      ]
    },
    {
      "cell_type": "code",
      "source": [
        "# DICTIONAIRES it is used to save values in pairs \n",
        "# represented by {}\n",
        "# there is no indexing in dictionaries , search value on the basis of Keys\n",
        "#myDict = {'key' : value , 'key': 'value'}\n",
        "# Dictionary is used to Hold multiple values in  a single variable as like list or tuple \n",
        "#within variable , key always be difined in []\n",
        "# same key does not repeat in a dictionary"
      ],
      "metadata": {
        "id": "Iutu4s8zeMIa"
      },
      "execution_count": null,
      "outputs": []
    },
    {
      "cell_type": "code",
      "source": [
        "myDict = {'Name' : 'Ali Ismail' , 'Age' : 36 , 'status' : 'Married'}\n",
        "len(myDict)"
      ],
      "metadata": {
        "colab": {
          "base_uri": "https://localhost:8080/"
        },
        "id": "Xl9J2_keR0OF",
        "outputId": "0793ec5b-dff0-4209-bf86-9d7a9ebaf108"
      },
      "execution_count": null,
      "outputs": [
        {
          "output_type": "execute_result",
          "data": {
            "text/plain": [
              "3"
            ]
          },
          "metadata": {},
          "execution_count": 10
        }
      ]
    },
    {
      "cell_type": "code",
      "source": [
        "# Adding new key (with value) in dictionary\n",
        "myDict['email'] = 'xyz@gmail.com'\n",
        "myDict"
      ],
      "metadata": {
        "colab": {
          "base_uri": "https://localhost:8080/"
        },
        "id": "3dR227grX4bz",
        "outputId": "e7758696-b252-4798-eb06-1bd73e34fb95"
      },
      "execution_count": null,
      "outputs": [
        {
          "output_type": "execute_result",
          "data": {
            "text/plain": [
              "{'Age': 36,\n",
              " 'Name': 'Ali Ismail',\n",
              " 'email': 'xyz@gmail.com',\n",
              " 'status': 'Married'}"
            ]
          },
          "metadata": {},
          "execution_count": 11
        }
      ]
    },
    {
      "cell_type": "code",
      "source": [
        "myDict['Name'] = 'Ali' # overwriting key value or updating key vlaue\n",
        "myDict"
      ],
      "metadata": {
        "colab": {
          "base_uri": "https://localhost:8080/"
        },
        "id": "DnKRpOlKc3FQ",
        "outputId": "32abd9b6-951d-4b0a-c4f1-c4f0ee4d20c8"
      },
      "execution_count": null,
      "outputs": [
        {
          "output_type": "execute_result",
          "data": {
            "text/plain": [
              "{'Age': 36,\n",
              " 'F.Name': 'Ismail',\n",
              " 'Name': 'Ali',\n",
              " 'email': 'xyz@gmail.com',\n",
              " 'status': 'Married'}"
            ]
          },
          "metadata": {},
          "execution_count": 17
        }
      ]
    },
    {
      "cell_type": "code",
      "source": [
        "myDict['Name'] # print specfic value from dictionary , it is case sensitive\n"
      ],
      "metadata": {
        "colab": {
          "base_uri": "https://localhost:8080/",
          "height": 35
        },
        "id": "x1LrpXb-YRvp",
        "outputId": "cfe771d1-af9e-4afb-d220-ad718a64d87c"
      },
      "execution_count": null,
      "outputs": [
        {
          "output_type": "execute_result",
          "data": {
            "text/plain": [
              "'Ali'"
            ],
            "application/vnd.google.colaboratory.intrinsic+json": {
              "type": "string"
            }
          },
          "metadata": {},
          "execution_count": 18
        }
      ]
    },
    {
      "cell_type": "code",
      "source": [
        "NewDict = {1 : 'Ali' , 2 : 'Ismail' , 3 : 'Hussain'} # Int key numeric\n",
        "NewDict[1]"
      ],
      "metadata": {
        "colab": {
          "base_uri": "https://localhost:8080/",
          "height": 35
        },
        "id": "_ntsSTCYclnA",
        "outputId": "da84d70a-ba58-462d-efdf-320a782e8582"
      },
      "execution_count": null,
      "outputs": [
        {
          "output_type": "execute_result",
          "data": {
            "text/plain": [
              "'Ali'"
            ],
            "application/vnd.google.colaboratory.intrinsic+json": {
              "type": "string"
            }
          },
          "metadata": {},
          "execution_count": 19
        }
      ]
    },
    {
      "cell_type": "code",
      "source": [
        "del NewDict[1]"
      ],
      "metadata": {
        "id": "Q5KuJ-gyeHFo"
      },
      "execution_count": null,
      "outputs": []
    },
    {
      "cell_type": "code",
      "source": [
        "NewDict # key 1 has been deleted"
      ],
      "metadata": {
        "colab": {
          "base_uri": "https://localhost:8080/"
        },
        "id": "-jEiMzDTi9uv",
        "outputId": "e51c0331-4e46-4e4a-8175-9ef202a776ea"
      },
      "execution_count": null,
      "outputs": [
        {
          "output_type": "execute_result",
          "data": {
            "text/plain": [
              "{2: 'Ismail', 3: 'Hussain'}"
            ]
          },
          "metadata": {},
          "execution_count": 28
        }
      ]
    },
    {
      "cell_type": "code",
      "source": [
        "# to check key is present in dictionary\n",
        "myDict = {'Name' : 'Ali Ismail' , 'Age' : 36 , 'status' : 'Married'}\n",
        "NewDict = {1 : 'Ali' , 2 : 'Ismail' , 3 : 'Hussain'}\n",
        "1 in NewDict"
      ],
      "metadata": {
        "id": "DllQkIfijAGe",
        "colab": {
          "base_uri": "https://localhost:8080/"
        },
        "outputId": "2e31ff60-19e5-4ccc-b8b8-d6749a4a17c5"
      },
      "execution_count": null,
      "outputs": [
        {
          "output_type": "execute_result",
          "data": {
            "text/plain": [
              "True"
            ]
          },
          "metadata": {},
          "execution_count": 9
        }
      ]
    },
    {
      "cell_type": "code",
      "source": [
        "'Name' in myDict"
      ],
      "metadata": {
        "colab": {
          "base_uri": "https://localhost:8080/"
        },
        "id": "Pwhb9hvNcPly",
        "outputId": "1da46cec-bb35-48c1-b124-1780ae6761e7"
      },
      "execution_count": null,
      "outputs": [
        {
          "output_type": "execute_result",
          "data": {
            "text/plain": [
              "True"
            ]
          },
          "metadata": {},
          "execution_count": 11
        }
      ]
    },
    {
      "cell_type": "code",
      "source": [
        "# Iterate means loop\n",
        "# Iterate for key , iterate for values , iterate for both key and value\n",
        "myDict = {'Name' : 'Ali Ismail' , 'Age' : 36 , 'status' : 'Married'}\n",
        "for key in myDict.keys(): # for keys\n",
        "  print(key)"
      ],
      "metadata": {
        "colab": {
          "base_uri": "https://localhost:8080/"
        },
        "id": "zReICsXEdD2q",
        "outputId": "c5856b9b-cae0-45e4-b776-b33bf897ed4a"
      },
      "execution_count": null,
      "outputs": [
        {
          "output_type": "stream",
          "name": "stdout",
          "text": [
            "Name\n",
            "Age\n",
            "status\n"
          ]
        }
      ]
    },
    {
      "cell_type": "code",
      "source": [
        "for value in myDict.values(): # for values\n",
        "  print(value)"
      ],
      "metadata": {
        "colab": {
          "base_uri": "https://localhost:8080/"
        },
        "id": "98njl7v8eRRD",
        "outputId": "bc212a7c-72c4-4b5b-fc19-d1efe9fc0a85"
      },
      "execution_count": null,
      "outputs": [
        {
          "output_type": "stream",
          "name": "stdout",
          "text": [
            "Ali Ismail\n",
            "36\n",
            "Married\n"
          ]
        }
      ]
    },
    {
      "cell_type": "code",
      "source": [
        "for key, value in myDict.items(): # for both key and vlaues\n",
        "  print(key,value)"
      ],
      "metadata": {
        "colab": {
          "base_uri": "https://localhost:8080/"
        },
        "id": "1uPcTP2JerSp",
        "outputId": "bc178e51-f2cd-4fee-a55b-280828ecec6b"
      },
      "execution_count": null,
      "outputs": [
        {
          "output_type": "stream",
          "name": "stdout",
          "text": [
            "Name Ali Ismail\n",
            "Age 36\n",
            "status Married\n"
          ]
        }
      ]
    },
    {
      "cell_type": "code",
      "source": [
        "# what we can store in dictionary ?\n",
        "# it can add , str ,  int , tuple , list , dic etc.\n",
        "#List that holds dictionary\n",
        "# Creating a list where its members are dictionaries , means a list contains multiple dictionaries\n",
        "data = []\n",
        "data.append({'Name' : 'Ali Ismail' , 'Age' : 36 , 'status' : 'Married'})\n",
        "data.append({'Name' : 'Zubair Waqar' , 'Age' : 36 , 'status' : 'Married'})\n",
        "print(data) # two dictionaries are combined into single list\n",
        "\n",
        "\n"
      ],
      "metadata": {
        "colab": {
          "base_uri": "https://localhost:8080/"
        },
        "id": "lRguvl8Ae3JJ",
        "outputId": "0a5c53ce-291c-49ac-a41d-91d10b5a1982"
      },
      "execution_count": null,
      "outputs": [
        {
          "output_type": "stream",
          "name": "stdout",
          "text": [
            "[{'Name': 'Ali Ismail', 'Age': 36, 'status': 'Married'}, {'Name': 'Zubair Waqar', 'Age': 36, 'status': 'Married'}]\n"
          ]
        }
      ]
    },
    {
      "cell_type": "code",
      "source": [
        "\n",
        "print(data [0] ['Name']) #Listname -position/index- key\n"
      ],
      "metadata": {
        "colab": {
          "base_uri": "https://localhost:8080/"
        },
        "id": "V9cS7GXMpHhP",
        "outputId": "6c7cc04c-971c-43a6-e67c-1b830ed12191"
      },
      "execution_count": null,
      "outputs": [
        {
          "output_type": "stream",
          "name": "stdout",
          "text": [
            "Ali Ismail\n"
          ]
        }
      ]
    },
    {
      "cell_type": "code",
      "source": [
        "# Dictionary that  holds List (dictionary contains list)  i.e. reverse of list caontains dictionary \n",
        "dic = {1 : 'ALI' , 2 : 'zUBAIR', 3 : ['SANA' , 'ERUM']}\n",
        "print(dic [3] [0]) # dictionary name - key -index/position\n",
        "\n",
        "print(dic [3] [1])\n",
        "\n"
      ],
      "metadata": {
        "colab": {
          "base_uri": "https://localhost:8080/"
        },
        "id": "pbi7bWA3pqz3",
        "outputId": "18d7ee9e-60e1-4cd9-b944-118d8c279409"
      },
      "execution_count": null,
      "outputs": [
        {
          "output_type": "stream",
          "name": "stdout",
          "text": [
            "SANA\n",
            "ERUM\n"
          ]
        }
      ]
    },
    {
      "cell_type": "code",
      "source": [
        "# Dictionary that holds another dictionary as a value"
      ],
      "metadata": {
        "id": "8cXIK6B_yLis"
      },
      "execution_count": null,
      "outputs": []
    },
    {
      "cell_type": "code",
      "source": [
        "weight = int(input(\"Enter your Weight(kg):\"))\n",
        "Height = int(input(\"Enter your Height (inch):\"))\n",
        "Height_meter_sq = (Height * 0.0254) **2\n",
        "BMI = weight / Height_meter_sq # weight/height(sq.meter)\n",
        "print(\"Your BMI is:\", BMI)\n",
        "\n",
        "if BMI <= 18 :\n",
        "      print (\"You are underweight !\")\n",
        "elif  BMI >=18 and BMI <24 :\n",
        "      print (\"Your weight is normal ! \")\n",
        "else :\n",
        "      print (\"You are overweight ! \")"
      ],
      "metadata": {
        "colab": {
          "base_uri": "https://localhost:8080/"
        },
        "id": "JNy_c55rNikw",
        "outputId": "9f2ef124-72ee-4704-b653-4cfe48230725"
      },
      "execution_count": 2,
      "outputs": [
        {
          "output_type": "stream",
          "name": "stdout",
          "text": [
            "Enter your Weight(kg):65\n",
            "Enter your Height (inch):67\n",
            "Your BMI is: 22.44379627988483\n",
            "Your weight is normal ! \n"
          ]
        }
      ]
    },
    {
      "cell_type": "code",
      "source": [
        ""
      ],
      "metadata": {
        "id": "A67mm6k5NjzD"
      },
      "execution_count": null,
      "outputs": []
    }
  ]
}