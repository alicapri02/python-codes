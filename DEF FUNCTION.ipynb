{
 "cells": [
  {
   "cell_type": "markdown",
   "metadata": {},
   "source": [
    "## DEFINING FUNCTION "
   ]
  },
  {
   "cell_type": "code",
   "execution_count": 25,
   "metadata": {},
   "outputs": [
    {
     "name": "stdout",
     "output_type": "stream",
     "text": [
      "Group, Science\n",
      "Certified that, Mr.Ali Ismail Hussain\n",
      "Son/Daughter of, M Ismail\n",
      "whose date of birth is,  1987\n",
      "Your marks is, 651\n",
      "Grade is, A\n"
     ]
    }
   ],
   "source": [
    "def marksheet(group, name , fname , bdate , mobtained, grade):\n",
    "    print('Group, ' + group) \n",
    "    print('Certified that, ' + name)\n",
    "    print('Son/Daughter of, ' + fname) \n",
    "    print('whose date of birth is, ' , bdate) \n",
    "    print('Your marks is, ' + mobtained)\n",
    "    print('Grade is, ' + grade)\n",
    "\n",
    "marksheet(\"Science\", \"Mr.Ali Ismail Hussain\" , \"M Ismail\" , \"1987\" , \"651\" , \"A\")"
   ]
  },
  {
   "cell_type": "markdown",
   "metadata": {},
   "source": [
    "# DEF FUNCTION VIA RETURN"
   ]
  },
  {
   "cell_type": "code",
   "execution_count": 34,
   "metadata": {},
   "outputs": [
    {
     "name": "stdout",
     "output_type": "stream",
     "text": [
      "Your BMI is, 21.39678192399863\n"
     ]
    }
   ],
   "source": [
    "# Height = 5.85 Feet \n",
    "# 1foot = 0.3048 meters\n",
    "# Height in Meters = 5.75 * 0.3048 = 1.78308\n",
    "\n",
    "def BMI (kg, height_in_meters):\n",
    "    return kg/(height_in_meters*2)\n",
    "    \n",
    "bmi = BMI(75 , 1.78308)\n",
    "print('Your BMI is, ' + str(bmi))\n",
    "\n",
    "# Note : \n",
    "# If your BMI is less than 18.5, it falls within the underweight range. \n",
    "# If your BMI is 18.5 to 24.9, it falls within the normal or Healthy Weight range.\n",
    "# If your BMI is 25.0 to 29.9, it falls within the overweight range.\n",
    "# If your BMI is 30.0 or higher, it falls within the obese range.\n"
   ]
  },
  {
   "cell_type": "code",
   "execution_count": null,
   "metadata": {},
   "outputs": [],
   "source": []
  }
 ],
 "metadata": {
  "kernelspec": {
   "display_name": "Python 3",
   "language": "python",
   "name": "python3"
  },
  "language_info": {
   "codemirror_mode": {
    "name": "ipython",
    "version": 3
   },
   "file_extension": ".py",
   "mimetype": "text/x-python",
   "name": "python",
   "nbconvert_exporter": "python",
   "pygments_lexer": "ipython3",
   "version": "3.10.3"
  },
  "orig_nbformat": 4,
  "vscode": {
   "interpreter": {
    "hash": "ce63596ae0d914614267ce4c189bcfd59baa2bf3c3f6873135d1f4b6f6afabd2"
   }
  }
 },
 "nbformat": 4,
 "nbformat_minor": 2
}
