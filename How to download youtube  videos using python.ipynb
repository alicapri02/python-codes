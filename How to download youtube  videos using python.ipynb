{
 "cells": [
  {
   "cell_type": "code",
   "execution_count": 1,
   "metadata": {},
   "outputs": [
    {
     "name": "stdout",
     "output_type": "stream",
     "text": [
      "Collecting pytube\n",
      "  Downloading pytube-12.1.0-py3-none-any.whl (56 kB)\n",
      "     -------------------------------------- 56.5/56.5 KB 269.1 kB/s eta 0:00:00\n",
      "Installing collected packages: pytube\n",
      "Successfully installed pytube-12.1.0\n",
      "Note: you may need to restart the kernel to use updated packages.\n"
     ]
    },
    {
     "name": "stderr",
     "output_type": "stream",
     "text": [
      "WARNING: You are using pip version 22.0.4; however, version 22.3.1 is available.\n",
      "You should consider upgrading via the 'c:\\Users\\ERP SCM\\AppData\\Local\\Programs\\Python\\Python310\\python.exe -m pip install --upgrade pip' command.\n"
     ]
    }
   ],
   "source": [
    "pip install pytube"
   ]
  },
  {
   "cell_type": "code",
   "execution_count": 5,
   "metadata": {},
   "outputs": [
    {
     "name": "stdout",
     "output_type": "stream",
     "text": [
      "Download is completed successfully\n"
     ]
    }
   ],
   "source": [
    "from pytube import YouTube\n",
    "# You use the from pytube import YouTube function to import the Python Pytube library before continuing with the other aspects. Then you define the function download link.\n",
    "\n",
    "def Download(link):\n",
    "    youtubeObject = YouTube(link)\n",
    "    youtubeObject = youtubeObject.streams.get_highest_resolution()\n",
    "    # The youtubeObject = youtubeObject.streams.get_highest_resolution() command will automatically download the highest resolution available.\n",
    "    # implemented the Try and Except to return an error message if the download fails – else it will print out that the download is completed successfully.\n",
    "    try:\n",
    "        youtubeObject.download()\n",
    "    except:\n",
    "        print(\"An error has occurred\")\n",
    "    print(\"Download is completed successfully\")\n",
    "\n",
    "# The Link function will ask for the preferred YouTube video link to download, then immediately after you hit the enter button, the video downloading will commence.\n",
    "link = input(\"Enter the YouTube video URL: \")\n",
    "Download(link)"
   ]
  },
  {
   "cell_type": "code",
   "execution_count": null,
   "metadata": {},
   "outputs": [],
   "source": []
  }
 ],
 "metadata": {
  "kernelspec": {
   "display_name": "Python 3",
   "language": "python",
   "name": "python3"
  },
  "language_info": {
   "codemirror_mode": {
    "name": "ipython",
    "version": 3
   },
   "file_extension": ".py",
   "mimetype": "text/x-python",
   "name": "python",
   "nbconvert_exporter": "python",
   "pygments_lexer": "ipython3",
   "version": "3.10.3"
  },
  "vscode": {
   "interpreter": {
    "hash": "ce63596ae0d914614267ce4c189bcfd59baa2bf3c3f6873135d1f4b6f6afabd2"
   }
  }
 },
 "nbformat": 4,
 "nbformat_minor": 4
}
