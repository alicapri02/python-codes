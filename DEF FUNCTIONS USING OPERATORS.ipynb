{
 "cells": [
  {
   "cell_type": "markdown",
   "metadata": {},
   "source": [
    "#COMPARISON & LOGICAL OPERATORS"
   ]
  },
  {
   "cell_type": "code",
   "execution_count": 1,
   "metadata": {},
   "outputs": [
    {
     "data": {
      "text/plain": [
       "True"
      ]
     },
     "execution_count": 1,
     "metadata": {},
     "output_type": "execute_result"
    }
   ],
   "source": [
    "'yellow' > 'cyan'"
   ]
  },
  {
   "cell_type": "code",
   "execution_count": 1,
   "metadata": {},
   "outputs": [
    {
     "data": {
      "text/plain": [
       "False"
      ]
     },
     "execution_count": 1,
     "metadata": {},
     "output_type": "execute_result"
    }
   ],
   "source": [
    "'brown' > 'magneto'"
   ]
  },
  {
   "cell_type": "code",
   "execution_count": 2,
   "metadata": {},
   "outputs": [
    {
     "data": {
      "text/plain": [
       "True"
      ]
     },
     "execution_count": 2,
     "metadata": {},
     "output_type": "execute_result"
    }
   ],
   "source": [
    "# OR Operator used when either condition is true \n",
    "25 > 50 or 1 != 2"
   ]
  },
  {
   "cell_type": "code",
   "execution_count": 3,
   "metadata": {},
   "outputs": [
    {
     "data": {
      "text/plain": [
       "True"
      ]
     },
     "execution_count": 3,
     "metadata": {},
     "output_type": "execute_result"
    }
   ],
   "source": [
    "#  AND operator is used when both conditions are true\n",
    "1 < 5 and 5 > 2"
   ]
  },
  {
   "cell_type": "code",
   "execution_count": 4,
   "metadata": {},
   "outputs": [
    {
     "data": {
      "text/plain": [
       "False"
      ]
     },
     "execution_count": 4,
     "metadata": {},
     "output_type": "execute_result"
    }
   ],
   "source": [
    "1 < 5 and 5 > 10"
   ]
  },
  {
   "cell_type": "code",
   "execution_count": 14,
   "metadata": {},
   "outputs": [
    {
     "data": {
      "text/plain": [
       "True"
      ]
     },
     "execution_count": 14,
     "metadata": {},
     "output_type": "execute_result"
    }
   ],
   "source": [
    "# NOT operator makes TRUE to FALSE , FALSE to TRUE\n",
    "\n",
    "not 1 > 5"
   ]
  },
  {
   "cell_type": "code",
   "execution_count": 6,
   "metadata": {},
   "outputs": [
    {
     "data": {
      "text/plain": [
       "False"
      ]
     },
     "execution_count": 6,
     "metadata": {},
     "output_type": "execute_result"
    }
   ],
   "source": [
    "not 1 < 5"
   ]
  },
  {
   "cell_type": "code",
   "execution_count": 9,
   "metadata": {},
   "outputs": [
    {
     "data": {
      "text/plain": [
       "True"
      ]
     },
     "execution_count": 9,
     "metadata": {},
     "output_type": "execute_result"
    }
   ],
   "source": [
    "not 42 == 'Ali'"
   ]
  },
  {
   "cell_type": "code",
   "execution_count": 10,
   "metadata": {},
   "outputs": [
    {
     "data": {
      "text/plain": [
       "False"
      ]
     },
     "execution_count": 10,
     "metadata": {},
     "output_type": "execute_result"
    }
   ],
   "source": [
    "42 == 'Ali'"
   ]
  },
  {
   "cell_type": "code",
   "execution_count": 15,
   "metadata": {},
   "outputs": [
    {
     "name": "stdout",
     "output_type": "stream",
     "text": [
      "catCat\n",
      "True\n",
      "False\n",
      "False\n"
     ]
    }
   ],
   "source": [
    "# Figure out what's the relationship between the strings \"cat\" and \"Cat\" by replacing the plus sign with comparison operators.\n",
    "print(\"cat\" + \"Cat\")\n",
    "print(\"cat\" > \"Cat\")\n",
    "#Note :In Python uppercase letters are alphabetically sorted before lowercase letters.\n",
    "print(\"cat\" == \"Cat\")\n",
    "print(\"cat\" < \"Cat\")"
   ]
  },
  {
   "cell_type": "code",
   "execution_count": 42,
   "metadata": {},
   "outputs": [
    {
     "name": "stdout",
     "output_type": "stream",
     "text": [
      "Invalid Username.Must be atleast 05 characters long\n"
     ]
    }
   ],
   "source": [
    "def org_username(username):\n",
    "    if len(username) < 5 :\n",
    "        print('Invalid Username.Must be atleast 05 characters long')\n",
    "    else :\n",
    "        print('Username is valid')\n",
    "\n",
    "\n",
    "org_username('ali')"
   ]
  },
  {
   "cell_type": "code",
   "execution_count": 41,
   "metadata": {},
   "outputs": [
    {
     "name": "stdout",
     "output_type": "stream",
     "text": [
      "Username is valid\n"
     ]
    }
   ],
   "source": [
    "def org_username(username):\n",
    "    if len(username) < 5 :\n",
    "        print('Invalid Username.Must be atleast 05 characters long')\n",
    "    else :\n",
    "        print('Username is valid')\n",
    "\n",
    "org_username('alicapri')"
   ]
  },
  {
   "cell_type": "code",
   "execution_count": 43,
   "metadata": {},
   "outputs": [
    {
     "data": {
      "text/plain": [
       "True"
      ]
     },
     "execution_count": 43,
     "metadata": {},
     "output_type": "execute_result"
    }
   ],
   "source": [
    "def is_positive(number):\n",
    "  if number > 0:\n",
    "    return True\n",
    "\n",
    "is_positive (8)"
   ]
  },
  {
   "cell_type": "code",
   "execution_count": 56,
   "metadata": {},
   "outputs": [
    {
     "data": {
      "text/plain": [
       "False"
      ]
     },
     "execution_count": 56,
     "metadata": {},
     "output_type": "execute_result"
    }
   ],
   "source": [
    "def is_positive(number):\n",
    "  if number > 0:\n",
    "    return True\n",
    "  else:\n",
    "    return False\n",
    "\n",
    "is_positive(-4)"
   ]
  },
  {
   "cell_type": "code",
   "execution_count": 64,
   "metadata": {},
   "outputs": [
    {
     "data": {
      "text/plain": [
       "False"
      ]
     },
     "execution_count": 64,
     "metadata": {},
     "output_type": "execute_result"
    }
   ],
   "source": [
    "def is_even(number):\n",
    "    if number % 2 == 0:  # here number is divisible by 2 if remainder is zero will count as true otherwise false\n",
    "        return True\n",
    "    return False\n",
    "\n",
    "is_even(5) # here remainder is 1 thats why it is false\n",
    "\n",
    "# Note : if we do an integer division between 5 and 2, the quotient is 2 and the remainder is 1\n",
    "# Similarly , If we do an integer division between 11 and 3, the quotient is 3 and the remainder is 2 \n",
    "\n",
    "# Even numbers are all multiples of 2 which means the remainder of the integer division between an even number and 2 is always going to be 0 \n",
    "# Using this principle to decide whether a number is even or not\n"
   ]
  },
  {
   "cell_type": "code",
   "execution_count": 65,
   "metadata": {},
   "outputs": [
    {
     "data": {
      "text/plain": [
       "True"
      ]
     },
     "execution_count": 65,
     "metadata": {},
     "output_type": "execute_result"
    }
   ],
   "source": [
    "def is_even(number):\n",
    "    if number % 2 == 0:  # here number is divisible by 2 if remainder is zero will count as true otherwise false\n",
    "        return True\n",
    "    return False\n",
    "\n",
    "is_even(6) # here remainder is 0 thats why it is true"
   ]
  },
  {
   "cell_type": "markdown",
   "metadata": {},
   "source": [
    "#elif Statements\n",
    "* It is used when more than 2 conditions are used "
   ]
  },
  {
   "cell_type": "code",
   "execution_count": 71,
   "metadata": {},
   "outputs": [
    {
     "name": "stdout",
     "output_type": "stream",
     "text": [
      "Username exceeds the limit\n"
     ]
    }
   ],
   "source": [
    "def org_username(username):\n",
    "    if len(username) < 5 :\n",
    "        print('Invalid Username.Must be atleast 05 characters long')\n",
    "    elif len(username) > 8:\n",
    "        print('Username exceeds the limit')\n",
    "    else :\n",
    "        print('Username is valid')\n",
    "\n",
    "org_username('alicapri02') # here character more than 8"
   ]
  },
  {
   "cell_type": "markdown",
   "metadata": {},
   "source": [
    "# BMI CALCULATOR"
   ]
  },
  {
   "cell_type": "code",
   "execution_count": 88,
   "metadata": {},
   "outputs": [
    {
     "name": "stdout",
     "output_type": "stream",
     "text": [
      "You are overweight\n"
     ]
    }
   ],
   "source": [
    "def BMI_INDEX(BMI):\n",
    "    if (BMI) < 18 :\n",
    "        print('You are underweight')\n",
    "    elif (BMI) >= 18 and (BMI) <= 24:\n",
    "        print('Your weight is Normal')\n",
    "    else :\n",
    "        print('You are overweight')\n",
    "\n",
    "BMI_INDEX(25) "
   ]
  },
  {
   "cell_type": "code",
   "execution_count": 114,
   "metadata": {},
   "outputs": [
    {
     "data": {
      "text/plain": [
       "'Negative'"
      ]
     },
     "execution_count": 114,
     "metadata": {},
     "output_type": "execute_result"
    }
   ],
   "source": [
    "def number_group(number):\n",
    "  if (number) >= 1:\n",
    "    return \"Positive\"\n",
    "  elif (number) < 0:\n",
    "    return \"Negative\"\n",
    "  else:\n",
    "    return \"Zero\"\n",
    "\n",
    "number_group(-15) "
   ]
  },
  {
   "cell_type": "code",
   "execution_count": 120,
   "metadata": {},
   "outputs": [
    {
     "name": "stdout",
     "output_type": "stream",
     "text": [
      "Collecting youtube-search\n",
      "  Downloading youtube_search-2.1.2-py3-none-any.whl (3.4 kB)\n",
      "Collecting requests\n",
      "  Downloading requests-2.28.1-py3-none-any.whl (62 kB)\n",
      "     -------------------------------------- 62.8/62.8 KB 373.1 kB/s eta 0:00:00\n",
      "Collecting certifi>=2017.4.17\n",
      "  Downloading certifi-2022.9.24-py3-none-any.whl (161 kB)\n",
      "     ------------------------------------ 161.1/161.1 KB 961.0 kB/s eta 0:00:00\n",
      "Collecting urllib3<1.27,>=1.21.1\n",
      "  Downloading urllib3-1.26.12-py2.py3-none-any.whl (140 kB)\n",
      "     ------------------------------------ 140.4/140.4 KB 695.9 kB/s eta 0:00:00\n",
      "Collecting idna<4,>=2.5\n",
      "  Downloading idna-3.4-py3-none-any.whl (61 kB)\n",
      "     -------------------------------------- 61.5/61.5 KB 827.4 kB/s eta 0:00:00\n",
      "Collecting charset-normalizer<3,>=2\n",
      "  Downloading charset_normalizer-2.1.1-py3-none-any.whl (39 kB)\n",
      "Installing collected packages: urllib3, idna, charset-normalizer, certifi, requests, youtube-search\n",
      "Successfully installed certifi-2022.9.24 charset-normalizer-2.1.1 idna-3.4 requests-2.28.1 urllib3-1.26.12 youtube-search-2.1.2\n",
      "Note: you may need to restart the kernel to use updated packages.\n"
     ]
    },
    {
     "name": "stderr",
     "output_type": "stream",
     "text": [
      "WARNING: You are using pip version 22.0.4; however, version 22.3 is available.\n",
      "You should consider upgrading via the 'c:\\Users\\ERP SCM\\AppData\\Local\\Programs\\Python\\Python310\\python.exe -m pip install --upgrade pip' command.\n"
     ]
    }
   ],
   "source": [
    "pip install youtube-search"
   ]
  },
  {
   "cell_type": "code",
   "execution_count": 126,
   "metadata": {},
   "outputs": [
    {
     "name": "stdout",
     "output_type": "stream",
     "text": [
      "{\"videos\": [{\"id\": \"otf7IgEJbU4\", \"thumbnails\": [\"https://i.ytimg.com/vi/otf7IgEJbU4/hq720.jpg?sqp=-oaymwEjCOgCEMoBSFryq4qpAxUIARUAAAAAGAElAADIQj0AgKJDeAE=&rs=AOn4CLAQ7ImixyL5pdpS9V8Ef4-7q3MCtg\", \"https://i.ytimg.com/vi/otf7IgEJbU4/hq720.jpg?sqp=-oaymwEXCNAFEJQDSFryq4qpAwkIARUAAIhCGAE=&rs=AOn4CLBv-9iPsYn3Qa79y-QHtE-Q5t9bgg\"], \"title\": \"Importance of Search Terms | What are Amazon backend keywords?\", \"long_desc\": null, \"channel\": \"Enablers\", \"duration\": \"8:18\", \"views\": \"8,464 \\u0645\\u0644\\u0627\\u062d\\u0638\\u0627\\u062a\", \"publish_time\": \"1 \\u0633\\u0627\\u0644 \\u067e\\u06c1\\u0644\\u06d2\", \"url_suffix\": \"/watch?v=otf7IgEJbU4\"}, {\"id\": \"fK25IlOaysU\", \"thumbnails\": [\"https://i.ytimg.com/vi/fK25IlOaysU/hq720.jpg?sqp=-oaymwEjCOgCEMoBSFryq4qpAxUIARUAAAAAGAElAADIQj0AgKJDeAE=&rs=AOn4CLA-ZXa5IrbSo-6kvpmN9SKNARtXeQ\", \"https://i.ytimg.com/vi/fK25IlOaysU/hq720.jpg?sqp=-oaymwEXCNAFEJQDSFryq4qpAwkIARUAAIhCGAE=&rs=AOn4CLD1B1CEzc_Ng-9XIxOiaGxWgzvuJA\"], \"title\": \"What are Backend Search Terms? | Step by step guide\", \"long_desc\": null, \"channel\": \"eCommerce by Enablers\", \"duration\": \"13:17\", \"views\": \"374 \\u0645\\u0644\\u0627\\u062d\\u0638\\u0627\\u062a\", \"publish_time\": \"3 \\u0645\\u06c1\\u06cc\\u0646\\u06d2 \\u067e\\u06c1\\u0644\\u06d2\", \"url_suffix\": \"/watch?v=fK25IlOaysU\"}, {\"id\": \"XAWpQ5Ldja0\", \"thumbnails\": [\"https://i.ytimg.com/vi/XAWpQ5Ldja0/hq720.jpg?sqp=-oaymwEjCOgCEMoBSFryq4qpAxUIARUAAAAAGAElAADIQj0AgKJDeAE=&rs=AOn4CLBc_alta3vIAglaSXAAHTwK-aUaRw\", \"https://i.ytimg.com/vi/XAWpQ5Ldja0/hq720.jpg?sqp=-oaymwEXCNAFEJQDSFryq4qpAwkIARUAAIhCGAE=&rs=AOn4CLA4umK4R-MNrfMXM5xNcRCWpnzGgA\"], \"title\": \"Top YouTube Search Terms Meaning | Top Youtube Search Term Kya Hai | 2020\", \"long_desc\": null, \"channel\": \"TechRiko\", \"duration\": \"3:12\", \"views\": \"31,092 \\u0645\\u0644\\u0627\\u062d\\u0638\\u0627\\u062a\", \"publish_time\": \"2 \\u0633\\u0627\\u0644 \\u067e\\u06c1\\u0644\\u06d2\", \"url_suffix\": \"/watch?v=XAWpQ5Ldja0\"}, {\"id\": \"xjvRj1WMH0Y\", \"thumbnails\": [\"https://i.ytimg.com/vi/xjvRj1WMH0Y/hq720.jpg?sqp=-oaymwEjCOgCEMoBSFryq4qpAxUIARUAAAAAGAElAADIQj0AgKJDeAE=&rs=AOn4CLCZpvbJjDOc_BqC8b_HkduHj__-Iw\", \"https://i.ytimg.com/vi/xjvRj1WMH0Y/hq720.jpg?sqp=-oaymwEXCNAFEJQDSFryq4qpAwkIARUAAIhCGAE=&rs=AOn4CLB1q_astjZ773CEUaOQWu3NnoVCmA\"], \"title\": \"Google Ads Course | What is a Keyword, Queries & Search Terms in Google Ads | Part#20 | UmarTazkeer\", \"long_desc\": null, \"channel\": \"Umar Tazkeer \", \"duration\": \"13:04\", \"views\": \"6,447 \\u0645\\u0644\\u0627\\u062d\\u0638\\u0627\\u062a\", \"publish_time\": \"1 \\u0633\\u0627\\u0644 \\u067e\\u06c1\\u0644\\u06d2\", \"url_suffix\": \"/watch?v=xjvRj1WMH0Y\"}, {\"id\": \"P_yfWFtF5Mc\", \"thumbnails\": [\"https://i.ytimg.com/vi/P_yfWFtF5Mc/hq720.jpg?sqp=-oaymwEjCOgCEMoBSFryq4qpAxUIARUAAAAAGAElAADIQj0AgKJDeAE=&rs=AOn4CLBVKmJbA1mfQfmx_p6PuSEAUKeSSw\", \"https://i.ytimg.com/vi/P_yfWFtF5Mc/hq720.jpg?sqp=-oaymwEXCNAFEJQDSFryq4qpAwkIARUAAIhCGAE=&rs=AOn4CLBC-0OldWSMXwMdKJP4quK8voZXTQ\"], \"title\": \"Optimizing SEO Search Terms and Keywords for Amazon Seller Central\", \"long_desc\": null, \"channel\": \"eCommerce by Enablers\", \"duration\": \"17:19\", \"views\": \"684 \\u0645\\u0644\\u0627\\u062d\\u0638\\u0627\\u062a\", \"publish_time\": \"6 \\u0645\\u06c1\\u06cc\\u0646\\u06d2 \\u067e\\u06c1\\u0644\\u06d2\", \"url_suffix\": \"/watch?v=P_yfWFtF5Mc\"}, {\"id\": \"bFrFivJswUs\", \"thumbnails\": [\"https://i.ytimg.com/vi/bFrFivJswUs/hq720.jpg?sqp=-oaymwEjCOgCEMoBSFryq4qpAxUIARUAAAAAGAElAADIQj0AgKJDeAE=&rs=AOn4CLAfPFvWfgw_uvn3qBXCL0UivLfx3g\", \"https://i.ytimg.com/vi/bFrFivJswUs/hq720.jpg?sqp=-oaymwEXCNAFEJQDSFryq4qpAwkIARUAAIhCGAE=&rs=AOn4CLCaqIq4_R5L4r_LscQ9Z0iKierN-A\"], \"title\": \"Google Ads Search Terms Report Analysis Like a Boss\", \"long_desc\": null, \"channel\": \"Ads Courses\", \"duration\": \"20:07\", \"views\": \"20,106 \\u0645\\u0644\\u0627\\u062d\\u0638\\u0627\\u062a\", \"publish_time\": \"3 \\u0633\\u0627\\u0644 \\u067e\\u06c1\\u0644\\u06d2\", \"url_suffix\": \"/watch?v=bFrFivJswUs\"}, {\"id\": \"OPRSTCdMOM8\", \"thumbnails\": [\"https://i.ytimg.com/vi/OPRSTCdMOM8/hqdefault.jpg?sqp=-oaymwEjCOADEI4CSFryq4qpAxUIARUAAAAAGAElAADIQj0AgKJDeAE=&rs=AOn4CLCzXuJpHuUbGBt4gYkujKhrBtrjZQ\"], \"title\": \"Identifying your Search Terms\", \"long_desc\": null, \"channel\": \"Deakin Library\", \"duration\": \"2:00\", \"views\": \"3,978 \\u0645\\u0644\\u0627\\u062d\\u0638\\u0627\\u062a\", \"publish_time\": \"3 \\u0633\\u0627\\u0644 \\u067e\\u06c1\\u0644\\u06d2\", \"url_suffix\": \"/watch?v=OPRSTCdMOM8\"}, {\"id\": \"rv-5OAYIeWg\", \"thumbnails\": [\"https://i.ytimg.com/vi/rv-5OAYIeWg/hqdefault.jpg?sqp=-oaymwEjCOADEI4CSFryq4qpAxUIARUAAAAAGAElAADIQj0AgKJDeAE=&rs=AOn4CLC5a288aQoLyk6PNlx8aq1VEDj4Ig\"], \"title\": \"Keywords vs Search Terms - What is the difference?\", \"long_desc\": null, \"channel\": \"This Week In Digital\", \"duration\": \"6:23\", \"views\": \"3,489 \\u0645\\u0644\\u0627\\u062d\\u0638\\u0627\\u062a\", \"publish_time\": \"3 \\u0633\\u0627\\u0644 \\u067e\\u06c1\\u0644\\u06d2\", \"url_suffix\": \"/watch?v=rv-5OAYIeWg\"}, {\"id\": \"gsbQy7Bw7q0\", \"thumbnails\": [\"https://i.ytimg.com/vi/gsbQy7Bw7q0/hq720.jpg?sqp=-oaymwEjCOgCEMoBSFryq4qpAxUIARUAAAAAGAElAADIQj0AgKJDeAE=&rs=AOn4CLDTlt0AkasMhv2aWVjul2S_h_BHeg\", \"https://i.ytimg.com/vi/gsbQy7Bw7q0/hq720.jpg?sqp=-oaymwEXCNAFEJQDSFryq4qpAwkIARUAAIhCGAE=&rs=AOn4CLB3uPq5CLA6OjV1I5eVcAE4OWqCWg\"], \"title\": \"Search Terms Google Ads 2020 | How To Stop Invalid Clicks Google Ads | Google PPC Ads Tutorial 2020\", \"long_desc\": null, \"channel\": \"Marketing Fundas\", \"duration\": \"7:46\", \"views\": \"2,959 \\u0645\\u0644\\u0627\\u062d\\u0638\\u0627\\u062a\", \"publish_time\": \"2 \\u0633\\u0627\\u0644 \\u067e\\u06c1\\u0644\\u06d2\", \"url_suffix\": \"/watch?v=gsbQy7Bw7q0\"}, {\"id\": \"OE3BjaJ1Q-k\", \"thumbnails\": [\"https://i.ytimg.com/vi/OE3BjaJ1Q-k/hq720.jpg?sqp=-oaymwEjCOgCEMoBSFryq4qpAxUIARUAAAAAGAElAADIQj0AgKJDeAE=&rs=AOn4CLCfEHnRsNX89SJG8YNQEmFYa-wfXA\", \"https://i.ytimg.com/vi/OE3BjaJ1Q-k/hq720.jpg?sqp=-oaymwEXCNAFEJQDSFryq4qpAwkIARUAAIhCGAE=&rs=AOn4CLCAVtmOUcb7A9HTcLSA1mR-zHUOLg\"], \"title\": \"Optimizing SEO Search Terms and Keywords for Amazon Seller Central - Best Practices Tutorial\", \"long_desc\": null, \"channel\": \"My Amazon Guy\", \"duration\": \"21:38\", \"views\": \"31,735 \\u0645\\u0644\\u0627\\u062d\\u0638\\u0627\\u062a\", \"publish_time\": \"2 \\u0633\\u0627\\u0644 \\u067e\\u06c1\\u0644\\u06d2\", \"url_suffix\": \"/watch?v=OE3BjaJ1Q-k\"}]}\n",
      "[{'id': 'otf7IgEJbU4', 'thumbnails': ['https://i.ytimg.com/vi/otf7IgEJbU4/hq720.jpg?sqp=-oaymwEjCOgCEMoBSFryq4qpAxUIARUAAAAAGAElAADIQj0AgKJDeAE=&rs=AOn4CLAQ7ImixyL5pdpS9V8Ef4-7q3MCtg', 'https://i.ytimg.com/vi/otf7IgEJbU4/hq720.jpg?sqp=-oaymwEXCNAFEJQDSFryq4qpAwkIARUAAIhCGAE=&rs=AOn4CLBv-9iPsYn3Qa79y-QHtE-Q5t9bgg'], 'title': 'Importance of Search Terms | What are Amazon backend keywords?', 'long_desc': None, 'channel': 'Enablers', 'duration': '8:18', 'views': '8,464 ملاحظات', 'publish_time': '1 سال پہلے', 'url_suffix': '/watch?v=otf7IgEJbU4'}, {'id': 'fK25IlOaysU', 'thumbnails': ['https://i.ytimg.com/vi/fK25IlOaysU/hq720.jpg?sqp=-oaymwEjCOgCEMoBSFryq4qpAxUIARUAAAAAGAElAADIQj0AgKJDeAE=&rs=AOn4CLA-ZXa5IrbSo-6kvpmN9SKNARtXeQ', 'https://i.ytimg.com/vi/fK25IlOaysU/hq720.jpg?sqp=-oaymwEXCNAFEJQDSFryq4qpAwkIARUAAIhCGAE=&rs=AOn4CLD1B1CEzc_Ng-9XIxOiaGxWgzvuJA'], 'title': 'What are Backend Search Terms? | Step by step guide', 'long_desc': None, 'channel': 'eCommerce by Enablers', 'duration': '13:17', 'views': '374 ملاحظات', 'publish_time': '3 مہینے پہلے', 'url_suffix': '/watch?v=fK25IlOaysU'}, {'id': 'P_yfWFtF5Mc', 'thumbnails': ['https://i.ytimg.com/vi/P_yfWFtF5Mc/hq720.jpg?sqp=-oaymwEjCOgCEMoBSFryq4qpAxUIARUAAAAAGAElAADIQj0AgKJDeAE=&rs=AOn4CLBVKmJbA1mfQfmx_p6PuSEAUKeSSw', 'https://i.ytimg.com/vi/P_yfWFtF5Mc/hq720.jpg?sqp=-oaymwEXCNAFEJQDSFryq4qpAwkIARUAAIhCGAE=&rs=AOn4CLBC-0OldWSMXwMdKJP4quK8voZXTQ'], 'title': 'Optimizing SEO Search Terms and Keywords for Amazon Seller Central', 'long_desc': None, 'channel': 'eCommerce by Enablers', 'duration': '17:19', 'views': '684 ملاحظات', 'publish_time': '6 مہینے پہلے', 'url_suffix': '/watch?v=P_yfWFtF5Mc'}, {'id': 'xjvRj1WMH0Y', 'thumbnails': ['https://i.ytimg.com/vi/xjvRj1WMH0Y/hq720.jpg?sqp=-oaymwEjCOgCEMoBSFryq4qpAxUIARUAAAAAGAElAADIQj0AgKJDeAE=&rs=AOn4CLCZpvbJjDOc_BqC8b_HkduHj__-Iw', 'https://i.ytimg.com/vi/xjvRj1WMH0Y/hq720.jpg?sqp=-oaymwEXCNAFEJQDSFryq4qpAwkIARUAAIhCGAE=&rs=AOn4CLB1q_astjZ773CEUaOQWu3NnoVCmA'], 'title': 'Google Ads Course | What is a Keyword, Queries & Search Terms in Google Ads | Part#20 | UmarTazkeer', 'long_desc': None, 'channel': 'Umar Tazkeer ', 'duration': '13:04', 'views': '6,447 ملاحظات', 'publish_time': '1 سال پہلے', 'url_suffix': '/watch?v=xjvRj1WMH0Y'}, {'id': 'XAWpQ5Ldja0', 'thumbnails': ['https://i.ytimg.com/vi/XAWpQ5Ldja0/hq720.jpg?sqp=-oaymwEjCOgCEMoBSFryq4qpAxUIARUAAAAAGAElAADIQj0AgKJDeAE=&rs=AOn4CLBc_alta3vIAglaSXAAHTwK-aUaRw', 'https://i.ytimg.com/vi/XAWpQ5Ldja0/hq720.jpg?sqp=-oaymwEXCNAFEJQDSFryq4qpAwkIARUAAIhCGAE=&rs=AOn4CLA4umK4R-MNrfMXM5xNcRCWpnzGgA'], 'title': 'Top YouTube Search Terms Meaning | Top Youtube Search Term Kya Hai | 2020', 'long_desc': None, 'channel': 'TechRiko', 'duration': '3:12', 'views': '31,092 ملاحظات', 'publish_time': '2 سال پہلے', 'url_suffix': '/watch?v=XAWpQ5Ldja0'}, {'id': 'bFrFivJswUs', 'thumbnails': ['https://i.ytimg.com/vi/bFrFivJswUs/hq720.jpg?sqp=-oaymwEjCOgCEMoBSFryq4qpAxUIARUAAAAAGAElAADIQj0AgKJDeAE=&rs=AOn4CLAfPFvWfgw_uvn3qBXCL0UivLfx3g', 'https://i.ytimg.com/vi/bFrFivJswUs/hq720.jpg?sqp=-oaymwEXCNAFEJQDSFryq4qpAwkIARUAAIhCGAE=&rs=AOn4CLCaqIq4_R5L4r_LscQ9Z0iKierN-A'], 'title': 'Google Ads Search Terms Report Analysis Like a Boss', 'long_desc': None, 'channel': 'Ads Courses', 'duration': '20:07', 'views': '20,106 ملاحظات', 'publish_time': '3 سال پہلے', 'url_suffix': '/watch?v=bFrFivJswUs'}, {'id': 'OPRSTCdMOM8', 'thumbnails': ['https://i.ytimg.com/vi/OPRSTCdMOM8/hqdefault.jpg?sqp=-oaymwEjCOADEI4CSFryq4qpAxUIARUAAAAAGAElAADIQj0AgKJDeAE=&rs=AOn4CLCzXuJpHuUbGBt4gYkujKhrBtrjZQ'], 'title': 'Identifying your Search Terms', 'long_desc': None, 'channel': 'Deakin Library', 'duration': '2:00', 'views': '3,978 ملاحظات', 'publish_time': '3 سال پہلے', 'url_suffix': '/watch?v=OPRSTCdMOM8'}, {'id': 'rv-5OAYIeWg', 'thumbnails': ['https://i.ytimg.com/vi/rv-5OAYIeWg/hqdefault.jpg?sqp=-oaymwEjCOADEI4CSFryq4qpAxUIARUAAAAAGAElAADIQj0AgKJDeAE=&rs=AOn4CLC5a288aQoLyk6PNlx8aq1VEDj4Ig'], 'title': 'Keywords vs Search Terms - What is the difference?', 'long_desc': None, 'channel': 'This Week In Digital', 'duration': '6:23', 'views': '3,489 ملاحظات', 'publish_time': '3 سال پہلے', 'url_suffix': '/watch?v=rv-5OAYIeWg'}, {'id': 'AGryxZG-9jw', 'thumbnails': ['https://i.ytimg.com/vi/AGryxZG-9jw/hq720.jpg?sqp=-oaymwEjCOgCEMoBSFryq4qpAxUIARUAAAAAGAElAADIQj0AgKJDeAE=&rs=AOn4CLCsoUh_JGFnpR8zQGjxYGLLuwh_9w', 'https://i.ytimg.com/vi/AGryxZG-9jw/hq720.jpg?sqp=-oaymwEXCNAFEJQDSFryq4qpAwkIARUAAIhCGAE=&rs=AOn4CLCnjQAHQ35YkfC2ji4eIvYriyga6Q'], 'title': 'What is a Search Term?', 'long_desc': None, 'channel': 'Marketing Business Network', 'duration': '2:16', 'views': '264 ملاحظات', 'publish_time': '10 مہینے پہلے', 'url_suffix': '/watch?v=AGryxZG-9jw'}, {'id': 'gsbQy7Bw7q0', 'thumbnails': ['https://i.ytimg.com/vi/gsbQy7Bw7q0/hq720.jpg?sqp=-oaymwEjCOgCEMoBSFryq4qpAxUIARUAAAAAGAElAADIQj0AgKJDeAE=&rs=AOn4CLDTlt0AkasMhv2aWVjul2S_h_BHeg', 'https://i.ytimg.com/vi/gsbQy7Bw7q0/hq720.jpg?sqp=-oaymwEXCNAFEJQDSFryq4qpAwkIARUAAIhCGAE=&rs=AOn4CLB3uPq5CLA6OjV1I5eVcAE4OWqCWg'], 'title': 'Search Terms Google Ads 2020 | How To Stop Invalid Clicks Google Ads | Google PPC Ads Tutorial 2020', 'long_desc': None, 'channel': 'Marketing Fundas', 'duration': '7:46', 'views': '2,959 ملاحظات', 'publish_time': '2 سال پہلے', 'url_suffix': '/watch?v=gsbQy7Bw7q0'}]\n"
     ]
    }
   ],
   "source": [
    "from youtube_search import YoutubeSearch\n",
    "\n",
    "results = YoutubeSearch('search terms', max_results=10).to_json()\n",
    "\n",
    "print(results)\n",
    "\n",
    "# returns a json string\n",
    "\n",
    "########################################\n",
    "\n",
    "results = YoutubeSearch('search terms', max_results=10).to_dict()\n",
    "\n",
    "print(results)\n",
    "# returns a dictionary"
   ]
  },
  {
   "cell_type": "code",
   "execution_count": 127,
   "metadata": {},
   "outputs": [
    {
     "data": {
      "text/plain": [
       "True"
      ]
     },
     "execution_count": 127,
     "metadata": {},
     "output_type": "execute_result"
    }
   ],
   "source": [
    "(2**2) == 4"
   ]
  }
 ],
 "metadata": {
  "kernelspec": {
   "display_name": "Python 3",
   "language": "python",
   "name": "python3"
  },
  "language_info": {
   "codemirror_mode": {
    "name": "ipython",
    "version": 3
   },
   "file_extension": ".py",
   "mimetype": "text/x-python",
   "name": "python",
   "nbconvert_exporter": "python",
   "pygments_lexer": "ipython3",
   "version": "3.10.3"
  },
  "orig_nbformat": 4,
  "vscode": {
   "interpreter": {
    "hash": "ce63596ae0d914614267ce4c189bcfd59baa2bf3c3f6873135d1f4b6f6afabd2"
   }
  }
 },
 "nbformat": 4,
 "nbformat_minor": 2
}
