{
 "cells": [
  {
   "cell_type": "markdown",
   "metadata": {},
   "source": [
    "## Text-to-Speech"
   ]
  },
  {
   "cell_type": "code",
   "execution_count": 4,
   "metadata": {},
   "outputs": [],
   "source": [
    "import pyttsx3\n",
    "engine = pyttsx3.init()\n",
    "engine.say(\"Hi, ALI ASGHAR , WELCOME TO PYHTON PROGRAMMING WORLD\")\n",
    "engine.say(\"Hi, ZUBAIR WAQAR , WELCOME TO PYHTON PROGRAMMING WORLD\")\n",
    "engine.runAndWait()"
   ]
  },
  {
   "cell_type": "markdown",
   "metadata": {},
   "source": [
    "## Membership Operator in Python"
   ]
  },
  {
   "cell_type": "code",
   "execution_count": 6,
   "metadata": {},
   "outputs": [
    {
     "data": {
      "text/plain": [
       "True"
      ]
     },
     "execution_count": 6,
     "metadata": {},
     "output_type": "execute_result"
    }
   ],
   "source": [
    "# I want to check if the character b is in the string \"What a time to be alive\"\n",
    "\n",
    "'b' in \" what a time to be alive\"\n",
    " "
   ]
  },
  {
   "cell_type": "markdown",
   "metadata": {},
   "source": [
    "## F-string formatting in Python"
   ]
  },
  {
   "cell_type": "code",
   "execution_count": 14,
   "metadata": {},
   "outputs": [
    {
     "name": "stdout",
     "output_type": "stream",
     "text": [
      "There are many students in the class like Ali Ismail who is older than 25 years.\n"
     ]
    }
   ],
   "source": [
    "age = 25\n",
    "name = \"Ali Ismail\"\n",
    "\n",
    "string = f\"There are many students in the class like {name} who is older than {age} years.\"\n",
    "\n",
    "print(string)"
   ]
  },
  {
   "cell_type": "markdown",
   "metadata": {},
   "source": [
    "## Zip() Function in Python "
   ]
  },
  {
   "cell_type": "code",
   "execution_count": 17,
   "metadata": {},
   "outputs": [
    {
     "name": "stdout",
     "output_type": "stream",
     "text": [
      "{'Ali': 43, 'Zubair': 56, 'Waqar': 78}\n"
     ]
    }
   ],
   "source": [
    "#The zip() function to join list into a dictionary\n",
    "name = [\"Ali\", \"Zubair\", \"Waqar\"]\n",
    "score = [43, 56, 78]\n",
    "result = zip(name, score)\n",
    "print(dict(result))"
   ]
  },
  {
   "cell_type": "markdown",
   "metadata": {},
   "source": [
    "## CONCATENATE TWO LISTS"
   ]
  },
  {
   "cell_type": "code",
   "execution_count": 30,
   "metadata": {},
   "outputs": [
    {
     "name": "stdout",
     "output_type": "stream",
     "text": [
      "['Dave', 'Jerry', 'Sasha', 43, 56, 78]\n"
     ]
    }
   ],
   "source": [
    "name = [\"Dave\", \"Jerry\", \"Sasha\"]\n",
    "score = [43, 56, 78]\n",
    "result = name + score\n",
    "print(result)"
   ]
  },
  {
   "cell_type": "markdown",
   "metadata": {},
   "source": [
    "## Enumerate() Function in Python"
   ]
  },
  {
   "cell_type": "code",
   "execution_count": 36,
   "metadata": {},
   "outputs": [
    {
     "name": "stdout",
     "output_type": "stream",
     "text": [
      "{0: 'Data', 1: 'Camp', 2: 'Subscription'}\n"
     ]
    }
   ],
   "source": [
    "# Enumerate() function to assign an index to a list and then turn it to a dictionary\n",
    "\n",
    "result = dict(enumerate([\"Data\", \"Camp\", \"Subscription\"]))\n",
    "print(result)\n"
   ]
  },
  {
   "cell_type": "markdown",
   "metadata": {},
   "source": [
    "## Counter() Function in Python"
   ]
  },
  {
   "cell_type": "code",
   "execution_count": 14,
   "metadata": {},
   "outputs": [
    {
     "name": "stdout",
     "output_type": "stream",
     "text": [
      "Counter({'Free': 2, 'Code': 2, 'Practice': 1})\n"
     ]
    },
    {
     "data": {
      "text/plain": [
       "2"
      ]
     },
     "execution_count": 14,
     "metadata": {},
     "output_type": "execute_result"
    }
   ],
   "source": [
    "#Counts the number of times the values in an iterable occurs.\n",
    "from collections import Counter\n",
    "lst = [\"Free\", \"Code\", \"Practice\", \"Code\", \"Free\"]\n",
    "print(Counter(lst))\n",
    "# Use in NLP in Data Science\n",
    "lst.count('Free')\n"
   ]
  },
  {
   "cell_type": "markdown",
   "metadata": {},
   "source": [
    "## If-else Statements in Python"
   ]
  },
  {
   "cell_type": "code",
   "execution_count": 18,
   "metadata": {},
   "outputs": [
    {
     "name": "stdout",
     "output_type": "stream",
     "text": [
      "2 is present in List\n"
     ]
    },
    {
     "data": {
      "text/plain": [
       "5"
      ]
     },
     "execution_count": 18,
     "metadata": {},
     "output_type": "execute_result"
    }
   ],
   "source": [
    "Var1 = [1,2,3,2,4,5,6,7,6,6,6,6]\n",
    "i= 2 \n",
    "\n",
    "if i in Var1:\n",
    "    print('2 is present in List')\n",
    "else:\n",
    "    print('2 is not present in l=List')\n",
    "Var1.count(6)"
   ]
  },
  {
   "cell_type": "markdown",
   "metadata": {},
   "source": [
    "## For-Loops in Python"
   ]
  },
  {
   "cell_type": "code",
   "execution_count": 68,
   "metadata": {},
   "outputs": [
    {
     "name": "stdout",
     "output_type": "stream",
     "text": [
      "Data\n",
      "Camp\n",
      "is\n",
      "the\n",
      "best\n",
      "place\n",
      "to\n",
      "learn\n"
     ]
    }
   ],
   "source": [
    "lst  = [\"Data\",\"Camp\", \"is\", \"the\", \"best\", \"place\", \"to\", \"learn\"]\n",
    "for i in lst:\n",
    "\tprint(i)"
   ]
  },
  {
   "cell_type": "code",
   "execution_count": 81,
   "metadata": {},
   "outputs": [
    {
     "name": "stdout",
     "output_type": "stream",
     "text": [
      "2\n",
      "3\n",
      "4\n",
      "6\n",
      "10\n",
      "12\n"
     ]
    }
   ],
   "source": [
    "my_tuple = (2, 3, 4, 6, 10, 12)\n",
    "for i in my_tuple:\n",
    "    print(i)"
   ]
  },
  {
   "cell_type": "markdown",
   "metadata": {},
   "source": [
    "## Range() Function in Python"
   ]
  },
  {
   "cell_type": "code",
   "execution_count": 71,
   "metadata": {},
   "outputs": [
    {
     "name": "stdout",
     "output_type": "stream",
     "text": [
      "[2, 3, 4, 5, 6, 7, 8, 9, 10]\n"
     ]
    }
   ],
   "source": [
    "Var_range = range(2, 11)\n",
    "print(list(Var_range))\n"
   ]
  },
  {
   "cell_type": "markdown",
   "metadata": {},
   "source": [
    "## List Comprehension in Python"
   ]
  },
  {
   "cell_type": "code",
   "execution_count": 30,
   "metadata": {},
   "outputs": [
    {
     "name": "stdout",
     "output_type": "stream",
     "text": [
      "[3, 6, 12]\n"
     ]
    }
   ],
   "source": [
    "my_tuple = (2, 3, 4, 6, 10, 12)\n",
    "\n",
    "my_new_lst = [i for i in my_tuple if i % 3 == 0] # i divisible by 3\n",
    "print(my_new_lst)\n",
    "\n"
   ]
  },
  {
   "cell_type": "markdown",
   "metadata": {},
   "source": [
    "## "
   ]
  },
  {
   "cell_type": "code",
   "execution_count": 85,
   "metadata": {},
   "outputs": [
    {
     "name": "stdout",
     "output_type": "stream",
     "text": [
      "Hi Ali you are still in your denary age and your name contains 3 characters.\n"
     ]
    }
   ],
   "source": [
    "'''def function_name(parameter1, parameter2, ....):\n",
    "\t\n",
    "    //execute statement'''\n",
    "\n",
    "name = 'Ali'  # predefined \n",
    "age = 10\n",
    "print_func(name, age)\n",
    "\n",
    "def print_func(person_name, person_age):\n",
    "\n",
    "    if person_age > 10:\n",
    "        print(f\"Hi {person_name} you are more than your denary age and your name contains {len(person_name)} characters\") # denary age means the number ten\n",
    "    else:\n",
    "         print(f\"Hi {person_name} you are still in your denary age and your name contains {len(person_name)} characters.\") "
   ]
  },
  {
   "cell_type": "markdown",
   "metadata": {},
   "source": [
    "## Escape Characters"
   ]
  },
  {
   "cell_type": "code",
   "execution_count": 92,
   "metadata": {},
   "outputs": [
    {
     "name": "stdout",
     "output_type": "stream",
     "text": [
      "Joe is 42 years old\n",
      " oldis 42 years \n",
      "Joe is 42 years \f old\n"
     ]
    }
   ],
   "source": [
    "print ('%s is %d years old' %('Joe', 42)) # %s is used as a placeholder for string values & %d is used as a placeholder for numeric or decimal values\n",
    "print ('%s is %d years \\r old' %('Joe', 42)) # \\r is a carriage return which often means that the cursor should move to the leftmost column\n",
    "print ('%s is %d years \\f old' %('Joe', 42)) # form feed"
   ]
  },
  {
   "cell_type": "code",
   "execution_count": null,
   "metadata": {},
   "outputs": [],
   "source": []
  }
 ],
 "metadata": {
  "kernelspec": {
   "display_name": "Python 3.10.3 64-bit",
   "language": "python",
   "name": "python3"
  },
  "language_info": {
   "codemirror_mode": {
    "name": "ipython",
    "version": 3
   },
   "file_extension": ".py",
   "mimetype": "text/x-python",
   "name": "python",
   "nbconvert_exporter": "python",
   "pygments_lexer": "ipython3",
   "version": "3.10.3"
  },
  "orig_nbformat": 4,
  "vscode": {
   "interpreter": {
    "hash": "ce63596ae0d914614267ce4c189bcfd59baa2bf3c3f6873135d1f4b6f6afabd2"
   }
  }
 },
 "nbformat": 4,
 "nbformat_minor": 2
}
