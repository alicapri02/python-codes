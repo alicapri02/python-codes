{
 "cells": [
  {
   "cell_type": "code",
   "execution_count": 15,
   "metadata": {},
   "outputs": [],
   "source": [
    "import pyautogui"
   ]
  },
  {
   "cell_type": "markdown",
   "metadata": {},
   "source": [
    "pyautogui.size() #width and height"
   ]
  },
  {
   "cell_type": "code",
   "execution_count": 16,
   "metadata": {},
   "outputs": [
    {
     "data": {
      "text/plain": [
       "Point(x=263, y=100)"
      ]
     },
     "execution_count": 16,
     "metadata": {},
     "output_type": "execute_result"
    }
   ],
   "source": [
    "pyautogui.position()\n"
   ]
  },
  {
   "cell_type": "code",
   "execution_count": 17,
   "metadata": {},
   "outputs": [],
   "source": [
    "pyautogui.moveTo(19, 725)"
   ]
  },
  {
   "cell_type": "code",
   "execution_count": 18,
   "metadata": {},
   "outputs": [],
   "source": [
    "pyautogui.moveTo(712, 882,1)"
   ]
  },
  {
   "cell_type": "markdown",
   "metadata": {},
   "source": [
    "## AUTOMIZATION TASK\n",
    "**Open Chrome Browser, Type Website Name and Open Sub Menu"
   ]
  },
  {
   "cell_type": "code",
   "execution_count": 19,
   "metadata": {},
   "outputs": [],
   "source": [
    "## fIRST find coordiantes of mouse position by using :\n",
    "## pyautogui.position() \n",
    "\n",
    "pyautogui.moveTo(143, 879,1)\n",
    "pyautogui.click() \n",
    "pyautogui.write('chrome', interval=0.25);pyautogui.press('enter')\n",
    "pyautogui.moveTo(191, 49,1)\n",
    "pyautogui.click()\n",
    "pyautogui.write('W3schools.com', interval=0.25);pyautogui.press('enter')\n",
    "pyautogui.moveTo(889, 509 ,1)\n",
    "pyautogui.click() \n",
    "pyautogui.write('python', interval=0.5);pyautogui.press('enter')\n",
    "pyautogui.moveTo(212, 274 ,1)\n",
    "pyautogui.click()\n",
    "pyautogui.scroll(-800)\n",
    "pyautogui.moveTo(81, 388 ,1)\n",
    "pyautogui.click()\n",
    "pyautogui.moveTo(248, 371 ,1)\n",
    "pyautogui.dragRel(262, 0 ,1)\n",
    "pyautogui.moveTo(1577, 4 ,1)\n",
    "pyautogui.click()"
   ]
  },
  {
   "cell_type": "code",
   "execution_count": 20,
   "metadata": {},
   "outputs": [
    {
     "data": {
      "text/plain": [
       "Point(x=1577, y=4)"
      ]
     },
     "execution_count": 20,
     "metadata": {},
     "output_type": "execute_result"
    }
   ],
   "source": [
    "pyautogui.position()"
   ]
  },
  {
   "cell_type": "code",
   "execution_count": null,
   "metadata": {},
   "outputs": [],
   "source": []
  }
 ],
 "metadata": {
  "kernelspec": {
   "display_name": "Python 3",
   "language": "python",
   "name": "python3"
  },
  "language_info": {
   "codemirror_mode": {
    "name": "ipython",
    "version": 3
   },
   "file_extension": ".py",
   "mimetype": "text/x-python",
   "name": "python",
   "nbconvert_exporter": "python",
   "pygments_lexer": "ipython3",
   "version": "3.10.3"
  },
  "vscode": {
   "interpreter": {
    "hash": "ce63596ae0d914614267ce4c189bcfd59baa2bf3c3f6873135d1f4b6f6afabd2"
   }
  }
 },
 "nbformat": 4,
 "nbformat_minor": 4
}
